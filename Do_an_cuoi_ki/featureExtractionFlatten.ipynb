{
  "nbformat": 4,
  "nbformat_minor": 0,
  "metadata": {
    "colab": {
      "name": "featureExtractionFlatten.ipynb",
      "provenance": [],
      "authorship_tag": "ABX9TyPNdhKYB/1uqN2Gg++E85J+",
      "include_colab_link": true
    },
    "kernelspec": {
      "name": "python3",
      "display_name": "Python 3"
    },
    "language_info": {
      "name": "python"
    }
  },
  "cells": [
    {
      "cell_type": "markdown",
      "metadata": {
        "id": "view-in-github",
        "colab_type": "text"
      },
      "source": [
        "<a href=\"https://colab.research.google.com/github/DangMinh21/CS114.L22.KHCL/blob/main/Do_an_cuoi_ki/featureExtractionFlatten.ipynb\" target=\"_parent\"><img src=\"https://colab.research.google.com/assets/colab-badge.svg\" alt=\"Open In Colab\"/></a>"
      ]
    },
    {
      "cell_type": "code",
      "metadata": {
        "colab": {
          "base_uri": "https://localhost:8080/"
        },
        "id": "ad-dklJ7tVMC",
        "outputId": "4de3d8ee-b374-41f7-ab1a-f466e0e34478"
      },
      "source": [
        "# Mount Drive\n",
        "from google.colab import drive\n",
        "drive.mount('/content/drive')"
      ],
      "execution_count": 1,
      "outputs": [
        {
          "output_type": "stream",
          "text": [
            "Mounted at /content/drive\n"
          ],
          "name": "stdout"
        }
      ]
    },
    {
      "cell_type": "code",
      "metadata": {
        "id": "hEZc2RzjtZHH"
      },
      "source": [
        "# Import library\n",
        "import os\n",
        "import pandas as pd\n",
        "import numpy as np\n",
        "import matplotlib.pyplot as plt\n",
        "from PIL import Image\n"
      ],
      "execution_count": 8,
      "outputs": []
    },
    {
      "cell_type": "code",
      "metadata": {
        "id": "5TQ66V9ntcbF"
      },
      "source": [
        "# lấy địa chỉ ảnh và label tương ướng của dữ liệu được lưu trên drive\n",
        "FJoin = os.path.join\n",
        "def getLinkImg(path):\n",
        "    linkImgs = []\n",
        "    labels = []\n",
        "    # duyệt từng folder, mỗi folder chứa 1 chữ\n",
        "    characterFolders = [FJoin(path, f) for f in os.listdir(path)]\n",
        "    for folder in characterFolders:\n",
        "        # duyệt qua mọi chữ trong folder\n",
        "        label = folder.split('/')[-1]\n",
        "        label = int(label)\n",
        "        imgs = [FJoin(folder, img) for img in os.listdir(folder)]\n",
        "        for img in imgs:\n",
        "            linkImgs.append(img)\n",
        "            labels.append(label)\n",
        "    return linkImgs, labels"
      ],
      "execution_count": 3,
      "outputs": []
    },
    {
      "cell_type": "code",
      "metadata": {
        "colab": {
          "base_uri": "https://localhost:8080/"
        },
        "id": "WIsMMDettg7B",
        "outputId": "4f5d9e20-4eb2-4482-e385-38a5040ff457"
      },
      "source": [
        "# load data\n",
        "train_path = '/content/drive/MyDrive/Colab Notebooks/dataML/TrainData'\n",
        "test_path = '/content/drive/MyDrive/Colab Notebooks/dataML/TestData'\n",
        "x_train, y_train = getLinkImg(train_path)\n",
        "x_test, y_test = getLinkImg(test_path)\n",
        "print(f'size train: {len(x_train)}')\n",
        "print(f'size test: {len(x_test)}')"
      ],
      "execution_count": 4,
      "outputs": [
        {
          "output_type": "stream",
          "text": [
            "size train: 26279\n",
            "size test: 8760\n"
          ],
          "name": "stdout"
        }
      ]
    },
    {
      "cell_type": "code",
      "metadata": {
        "colab": {
          "base_uri": "https://localhost:8080/"
        },
        "id": "ElbnlOTxtjOs",
        "outputId": "718df03c-6e99-422f-da4f-00ecb17e2a23"
      },
      "source": [
        "label_dict = dict()\n",
        "labels = []\n",
        "with open('/content/drive/MyDrive/Colab Notebooks/dataML/KiTu_So.txt', 'r') as f:\n",
        "  lines = f.readlines()\n",
        "for line in lines:\n",
        "  l = line.split()\n",
        "  label_dict[int(l[0])] = l[1]\n",
        "  labels.append(l[1])\n",
        "print('label tương ứng: ')\n",
        "print(label_dict)\n",
        "print(labels)"
      ],
      "execution_count": 5,
      "outputs": [
        {
          "output_type": "stream",
          "text": [
            "label tương ứng: \n",
            "{1: 'a', 2: 'á', 3: 'à', 4: 'ả', 5: 'ạ', 6: 'ã', 7: 'ă', 8: 'ắ', 9: 'ằ', 10: 'ẳ', 11: 'ặ', 12: 'ẵ', 13: 'â', 14: 'ấ', 15: 'ầ', 16: 'ẩ', 17: 'ậ', 18: 'ẫ', 19: 'b', 20: 'c', 21: 'd', 22: 'đ', 23: 'e', 24: 'é', 25: 'è', 26: 'ẻ', 27: 'ẹ', 28: 'ẽ', 29: 'ê', 30: 'ế', 31: 'ề', 32: 'ể', 33: 'ệ', 34: 'ễ', 35: 'g', 36: 'h', 37: 'i', 38: 'í', 39: 'ì', 40: 'ỉ', 41: 'ị', 42: 'ĩ', 43: 'k', 44: 'l', 45: 'm', 46: 'n', 47: 'o', 48: 'ó', 49: 'ò', 50: 'ỏ', 51: 'ọ', 52: 'õ', 53: 'ô', 54: 'ố', 55: 'ồ', 56: 'ổ', 57: 'ộ', 58: 'ỗ', 59: 'ơ', 60: 'ớ', 61: 'ờ', 62: 'ở', 63: 'ợ', 64: 'ỡ', 65: 'p', 66: 'q', 67: 'r', 68: 's', 69: 't', 70: 'u', 71: 'ú', 72: 'ù', 73: 'ủ', 74: 'ụ', 75: 'ũ', 76: 'ư', 77: 'ứ', 78: 'ừ', 79: 'ử', 80: 'ự', 81: 'ữ', 82: 'v', 83: 'x', 84: 'y', 85: 'ý', 86: 'ỳ', 87: 'ỹ', 88: 'ỷ', 89: 'ỵ'}\n",
            "['a', 'á', 'à', 'ả', 'ạ', 'ã', 'ă', 'ắ', 'ằ', 'ẳ', 'ặ', 'ẵ', 'â', 'ấ', 'ầ', 'ẩ', 'ậ', 'ẫ', 'b', 'c', 'd', 'đ', 'e', 'é', 'è', 'ẻ', 'ẹ', 'ẽ', 'ê', 'ế', 'ề', 'ể', 'ệ', 'ễ', 'g', 'h', 'i', 'í', 'ì', 'ỉ', 'ị', 'ĩ', 'k', 'l', 'm', 'n', 'o', 'ó', 'ò', 'ỏ', 'ọ', 'õ', 'ô', 'ố', 'ồ', 'ổ', 'ộ', 'ỗ', 'ơ', 'ớ', 'ờ', 'ở', 'ợ', 'ỡ', 'p', 'q', 'r', 's', 't', 'u', 'ú', 'ù', 'ủ', 'ụ', 'ũ', 'ư', 'ứ', 'ừ', 'ử', 'ự', 'ữ', 'v', 'x', 'y', 'ý', 'ỳ', 'ỹ', 'ỷ', 'ỵ']\n"
          ],
          "name": "stdout"
        }
      ]
    },
    {
      "cell_type": "code",
      "metadata": {
        "colab": {
          "base_uri": "https://localhost:8080/",
          "height": 241
        },
        "id": "Q1-dTaW4trF7",
        "outputId": "976ed692-e893-4d6a-90d1-16bb77fae05b"
      },
      "source": [
        "# show một vài bức ảnh trong tập train\n",
        "imgs = [1, 500, 1000, 5000, 8000]\n",
        "fig, axes = plt.subplots(nrows=1, ncols=5, figsize=(15, 3))\n",
        "for ax, img in zip(axes, imgs):\n",
        "    im = Image.open(x_train[img])\n",
        "    ax.imshow(im, cmap='gray')\n",
        "    ax.set_title('label: {}'.format(label_dict[int(y_train[img])]))\n",
        "  \n",
        "img = Image.open(x_train[0])\n",
        "print(f'size: {img.size}\\nmode: {img.mode}')"
      ],
      "execution_count": 6,
      "outputs": [
        {
          "output_type": "stream",
          "text": [
            "size: (16, 16)\n",
            "mode: L\n"
          ],
          "name": "stdout"
        },
        {
          "output_type": "display_data",
          "data": {
            "image/png": "[encoded data removed]",
            "text/plain": [
              "<Figure size 1080x216 with 5 Axes>"
            ]
          },
          "metadata": {
            "tags": [],
            "needs_background": "light"
          }
        }
      ]
    },
    {
      "cell_type": "code",
      "metadata": {
        "colab": {
          "base_uri": "https://localhost:8080/"
        },
        "id": "XmTygG_4uxHg",
        "outputId": "b04dfa66-0019-4547-faf8-bcbe6cba4db4"
      },
      "source": [
        "im = Image.open(x_train[0])\n",
        "print(255-np.array(im))"
      ],
      "execution_count": 10,
      "outputs": [
        {
          "output_type": "stream",
          "text": [
            "[[  2   0   0   1   0   1   2   1   0   5   0   1  72 228 153  17]\n",
            " [  0   0   3   0   2   0   1   1   6   0   3   4   7  63 189 140]\n",
            " [  0   1   2   0   0   4   0   6   6   2   3   1   6   9  68 214]\n",
            " [  1   2   0   2   1   6   7   3   9  10   3   0   7   3 116 207]\n",
            " [  3   2   0   1   1   0   3  17 105  85   5   0   4  41 203 142]\n",
            " [  0   0   1   2   6   9   2 118 239 112   0   6  20 183 169  14]\n",
            " [  1   1   1   0   0   7  21 206 225  37  10   5 100 237  70   7]\n",
            " [  1   0   1   4   4   7  85 244 159   6   3   9 183 194  17   4]\n",
            " [  2   0   1   3   5   7 134 236  66   6   6  26 224 102  10   4]\n",
            " [  3   1   3   3   4  37 226 173   5   4   6  75 218  30   2   3]\n",
            " [  0   6   2   2  28 169 244 108   6   9   9 161 162   4   2   5]\n",
            " [  3   2   7  36 163 133 196  32  12   4  64 197 110   9   3   4]\n",
            " [  3  10  57 191 199 101 188  25   2  32 183 156 108   5  11  67]\n",
            " [138 173 214 164  19 114 228  22  36 172 130 204  90  30  91 138]\n",
            " [ 83 151 121  15   5  48 230 124 200 168  42 223 195 201 164  27]\n",
            " [  4  10   6   6  10  21 121 176 109  33  11  38 111 112  31  15]]\n"
          ],
          "name": "stdout"
        }
      ]
    },
    {
      "cell_type": "code",
      "metadata": {
        "id": "6jsPugOSttM2"
      },
      "source": [
        "def flattenData(imgs, label):\n",
        "  flatten_datas = []\n",
        "  for i in range(len(imgs)):\n",
        "    img = Image.open(imgs[i])\n",
        "    img = 255-np.array(img)\n",
        "    imgFlat = np.ravel(img)\n",
        "    data = np.append(imgFlat, label[i])\n",
        "    flatten_datas.append(data)\n",
        "  return np.array(flatten_datas)"
      ],
      "execution_count": 16,
      "outputs": []
    },
    {
      "cell_type": "code",
      "metadata": {
        "id": "huTUUZc0xmJE"
      },
      "source": [
        "train_data_flat = flattenData(x_train, y_train)\n",
        "test_data_flat = flattenData(x_test, y_test)"
      ],
      "execution_count": null,
      "outputs": []
    },
    {
      "cell_type": "code",
      "metadata": {
        "colab": {
          "base_uri": "https://localhost:8080/"
        },
        "id": "2-r6vYQyVoAJ",
        "outputId": "1eb1cef5-65ab-4d11-89ec-2589a20bf82f"
      },
      "source": [
        "print(f'Train size: {train_data_flat.shape}')\n",
        "print(f'Test size: {test_data_flat.shape}')"
      ],
      "execution_count": 20,
      "outputs": [
        {
          "output_type": "stream",
          "text": [
            "Train size: (26279, 257)\n",
            "Test size: (8760, 257)\n"
          ],
          "name": "stdout"
        }
      ]
    },
    {
      "cell_type": "code",
      "metadata": {
        "id": "krFUYp5qypQj"
      },
      "source": [
        "headers = list(map(str, range(256)))\n",
        "headers.append('label')"
      ],
      "execution_count": 18,
      "outputs": []
    },
    {
      "cell_type": "code",
      "metadata": {
        "id": "2ho1DfsyyaFs"
      },
      "source": [
        "# convert file csv to store\n",
        "pd.DataFrame(train_data_flat).to_csv('/content/drive/MyDrive/Colab Notebooks/dataML/Data_Flatten/train_data_flat.csv', header=headers, index=False)\n",
        "pd.DataFrame(test_data_flat).to_csv('/content/drive/MyDrive/Colab Notebooks/dataML/Data_Flatten/test_data_flat.csv', header=headers, index=False)"
      ],
      "execution_count": 19,
      "outputs": []
    }
  ]
}