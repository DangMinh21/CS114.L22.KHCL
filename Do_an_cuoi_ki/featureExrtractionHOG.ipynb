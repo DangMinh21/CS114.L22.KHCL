{
  "nbformat": 4,
  "nbformat_minor": 0,
  "metadata": {
    "colab": {
      "name": "featureExrtractionHOG.ipynb",
      "provenance": [],
      "authorship_tag": "ABX9TyMMVH8W5hLtRiUVEUcvBX5m",
      "include_colab_link": true
    },
    "kernelspec": {
      "name": "python3",
      "display_name": "Python 3"
    },
    "language_info": {
      "name": "python"
    }
  },
  "cells": [
    {
      "cell_type": "markdown",
      "metadata": {
        "id": "view-in-github",
        "colab_type": "text"
      },
      "source": [
        "<a href=\"https://colab.research.google.com/github/DangMinh21/CS114.L22.KHCL/blob/main/Do_an_cuoi_ki/featureExrtractionHOG.ipynb\" target=\"_parent\"><img src=\"https://colab.research.google.com/assets/colab-badge.svg\" alt=\"Open In Colab\"/></a>"
      ]
    },
    {
      "cell_type": "code",
      "metadata": {
        "colab": {
          "base_uri": "https://localhost:8080/"
        },
        "id": "q5nxZf1vDXti",
        "outputId": "351ad063-55e5-40e4-a2bf-2109d35fa8b3"
      },
      "source": [
        "# Mount Drive\n",
        "from google.colab import drive\n",
        "drive.mount('/content/drive')"
      ],
      "execution_count": 2,
      "outputs": [
        {
          "output_type": "stream",
          "text": [
            "Mounted at /content/drive\n"
          ],
          "name": "stdout"
        }
      ]
    },
    {
      "cell_type": "code",
      "metadata": {
        "id": "A8x6H69dDcfL"
      },
      "source": [
        "import os\n",
        "from PIL import Image\n",
        "import matplotlib.pyplot as plt\n",
        "import cv2\n",
        "import numpy as np\n",
        "import pandas as pd\n",
        "from skimage.feature import hog"
      ],
      "execution_count": 3,
      "outputs": []
    },
    {
      "cell_type": "code",
      "metadata": {
        "id": "VMcziqiMahqu"
      },
      "source": [
        "# lấy địa chỉ ảnh và label tương ướng của dữ liệu được lưu trên drive\n",
        "FJoin = os.path.join\n",
        "def getLinkImg(path):\n",
        "    linkImgs = []\n",
        "    labels = []\n",
        "    # duyệt từng folder, mỗi folder chứa 1 chữ\n",
        "    characterFolders = [FJoin(path, f) for f in os.listdir(path)]\n",
        "    for folder in characterFolders:\n",
        "        # duyệt qua mọi chữ trong folder\n",
        "        label = folder.split('/')[-1]\n",
        "        label = int(label)\n",
        "        imgs = [FJoin(folder, img) for img in os.listdir(folder)]\n",
        "        for img in imgs:\n",
        "            linkImgs.append(img)\n",
        "            labels.append(label)\n",
        "    return linkImgs, labels"
      ],
      "execution_count": 34,
      "outputs": []
    },
    {
      "cell_type": "code",
      "metadata": {
        "colab": {
          "base_uri": "https://localhost:8080/"
        },
        "id": "kVdbeANidY5G",
        "outputId": "6a9b791d-24f9-46c0-f152-aefbc89caa2d"
      },
      "source": [
        "# load data\n",
        "train_path = '/content/drive/MyDrive/Colab Notebooks/dataML/TrainData'\n",
        "test_path = '/content/drive/MyDrive/Colab Notebooks/dataML/TestData'\n",
        "x_train, y_train = getLinkImg(train_path)\n",
        "x_test, y_test = getLinkImg(test_path)\n",
        "print(f'size train: {len(x_train)}')\n",
        "print(f'size test: {len(x_test)}')"
      ],
      "execution_count": 35,
      "outputs": [
        {
          "output_type": "stream",
          "text": [
            "size train: 26279\n",
            "size test: 8760\n"
          ],
          "name": "stdout"
        }
      ]
    },
    {
      "cell_type": "code",
      "metadata": {
        "colab": {
          "base_uri": "https://localhost:8080/"
        },
        "id": "sSKoFKApiVGb",
        "outputId": "4de9fdf0-7dca-491e-91b7-13a7cbe3623a"
      },
      "source": [
        "label_dict = dict()\n",
        "labels = []\n",
        "with open('/content/drive/MyDrive/Colab Notebooks/dataML/KiTu_So.txt', 'r') as f:\n",
        "  lines = f.readlines()\n",
        "for line in lines:\n",
        "  l = line.split()\n",
        "  label_dict[int(l[0])] = l[1]\n",
        "  labels.append(l[1])\n",
        "print('label tương ứng: ')\n",
        "print(label_dict)\n",
        "print(labels)"
      ],
      "execution_count": 43,
      "outputs": [
        {
          "output_type": "stream",
          "text": [
            "label tương ứng: \n",
            "{1: 'a', 2: 'á', 3: 'à', 4: 'ả', 5: 'ạ', 6: 'ã', 7: 'ă', 8: 'ắ', 9: 'ằ', 10: 'ẳ', 11: 'ặ', 12: 'ẵ', 13: 'â', 14: 'ấ', 15: 'ầ', 16: 'ẩ', 17: 'ậ', 18: 'ẫ', 19: 'b', 20: 'c', 21: 'd', 22: 'đ', 23: 'e', 24: 'é', 25: 'è', 26: 'ẻ', 27: 'ẹ', 28: 'ẽ', 29: 'ê', 30: 'ế', 31: 'ề', 32: 'ể', 33: 'ệ', 34: 'ễ', 35: 'g', 36: 'h', 37: 'i', 38: 'í', 39: 'ì', 40: 'ỉ', 41: 'ị', 42: 'ĩ', 43: 'k', 44: 'l', 45: 'm', 46: 'n', 47: 'o', 48: 'ó', 49: 'ò', 50: 'ỏ', 51: 'ọ', 52: 'õ', 53: 'ô', 54: 'ố', 55: 'ồ', 56: 'ổ', 57: 'ộ', 58: 'ỗ', 59: 'ơ', 60: 'ớ', 61: 'ờ', 62: 'ở', 63: 'ợ', 64: 'ỡ', 65: 'p', 66: 'q', 67: 'r', 68: 's', 69: 't', 70: 'u', 71: 'ú', 72: 'ù', 73: 'ủ', 74: 'ụ', 75: 'ũ', 76: 'ư', 77: 'ứ', 78: 'ừ', 79: 'ử', 80: 'ự', 81: 'ữ', 82: 'v', 83: 'x', 84: 'y', 85: 'ý', 86: 'ỳ', 87: 'ỹ', 88: 'ỷ', 89: 'ỵ'}\n",
            "['a', 'á', 'à', 'ả', 'ạ', 'ã', 'ă', 'ắ', 'ằ', 'ẳ', 'ặ', 'ẵ', 'â', 'ấ', 'ầ', 'ẩ', 'ậ', 'ẫ', 'b', 'c', 'd', 'đ', 'e', 'é', 'è', 'ẻ', 'ẹ', 'ẽ', 'ê', 'ế', 'ề', 'ể', 'ệ', 'ễ', 'g', 'h', 'i', 'í', 'ì', 'ỉ', 'ị', 'ĩ', 'k', 'l', 'm', 'n', 'o', 'ó', 'ò', 'ỏ', 'ọ', 'õ', 'ô', 'ố', 'ồ', 'ổ', 'ộ', 'ỗ', 'ơ', 'ớ', 'ờ', 'ở', 'ợ', 'ỡ', 'p', 'q', 'r', 's', 't', 'u', 'ú', 'ù', 'ủ', 'ụ', 'ũ', 'ư', 'ứ', 'ừ', 'ử', 'ự', 'ữ', 'v', 'x', 'y', 'ý', 'ỳ', 'ỹ', 'ỷ', 'ỵ']\n"
          ],
          "name": "stdout"
        }
      ]
    },
    {
      "cell_type": "code",
      "metadata": {
        "colab": {
          "base_uri": "https://localhost:8080/",
          "height": 241
        },
        "id": "CfeXw70ke_IY",
        "outputId": "c0b6958b-f45e-4a55-e63c-4994ff5101e7"
      },
      "source": [
        "# show một vài bức ảnh trong tập train\n",
        "imgs = [1, 500, 1000, 5000, 8000]\n",
        "fig, axes = plt.subplots(nrows=1, ncols=5, figsize=(15, 3))\n",
        "for ax, img in zip(axes, imgs):\n",
        "    im = Image.open(x_train[img])\n",
        "    ax.imshow(im, cmap='gray')\n",
        "    ax.set_title('label: {}'.format(label_dict[int(y_train[img])]))\n",
        "  \n",
        "img = Image.open(x_train[0])\n",
        "print(f'size: {img.size}\\nmode: {img.mode}')"
      ],
      "execution_count": 57,
      "outputs": [
        {
          "output_type": "stream",
          "text": [
            "size: (16, 16)\n",
            "mode: L\n"
          ],
          "name": "stdout"
        },
        {
          "output_type": "display_data",
          "data": {
            "image/png": "[encoded data removed]",
            "text/plain": [
              "<Figure size 1080x216 with 5 Axes>"
            ]
          },
          "metadata": {
            "tags": [],
            "needs_background": "light"
          }
        }
      ]
    },
    {
      "cell_type": "code",
      "metadata": {
        "colab": {
          "base_uri": "https://localhost:8080/",
          "height": 208
        },
        "id": "GgZHKNM8e3TV",
        "outputId": "f9110940-e9ae-44cd-c37a-d0574710c89d"
      },
      "source": [
        "# chuyen anh qua HOG va visualize\n",
        "imgs = [1, 500, 1000, 5000, 8000]\n",
        "fig, axes = plt.subplots(nrows=1, ncols=5, figsize=(15, 3))\n",
        "for ax, img in zip(axes, imgs):\n",
        "    im = Image.open(x_train[img])\n",
        "    feature, HOG_img = hog(im, pixels_per_cell=(2,2), cells_per_block=(2,2), visualize=True)\n",
        "    ax.imshow(HOG_img)\n",
        "    ax.set_title('label: {}'.format(label_dict[int(y_train[img])]))"
      ],
      "execution_count": 58,
      "outputs": [
        {
          "output_type": "display_data",
          "data": {
            "image/png": "[encoded data removed]",
            "text/plain": [
              "<Figure size 1080x216 with 5 Axes>"
            ]
          },
          "metadata": {
            "tags": [],
            "needs_background": "light"
          }
        }
      ]
    },
    {
      "cell_type": "code",
      "metadata": {
        "id": "cHXWgiiEjKk_"
      },
      "source": [
        "def getFeatureHog(imgs):\n",
        "    # list luu tat ca anh sau khi da xu li\n",
        "    HOGfeatures = []\n",
        "    for img in imgs:\n",
        "        img = Image.open(img)\n",
        "        HOGfearture = hog(img, pixels_per_cell=(2,2), cells_per_block=(2,2))\n",
        "        HOGfeatures.append(HOGfearture)\n",
        "    return np.array(HOGfeatures)"
      ],
      "execution_count": 65,
      "outputs": []
    },
    {
      "cell_type": "code",
      "metadata": {
        "colab": {
          "base_uri": "https://localhost:8080/"
        },
        "id": "0UHJxFOxnRBF",
        "outputId": "b53ce5c2-9c65-45eb-cc27-f6b30965403c"
      },
      "source": [
        "x_train_hog = getFeatureHog(x_train)\n",
        "x_test_hog = getFeatureHog(x_test)\n",
        "print(f'x train hog size: {x_train_hog.shape}\\nx test hog size: {x_test_hog.shape}')"
      ],
      "execution_count": 66,
      "outputs": [
        {
          "output_type": "stream",
          "text": [
            "x train hog size: (26279, 1764)\n",
            "x test hog size: (8760, 1764)\n"
          ],
          "name": "stdout"
        }
      ]
    },
    {
      "cell_type": "code",
      "metadata": {
        "id": "mml9SqJ7oeVL"
      },
      "source": [
        "# luu vao file csv\n",
        "pd.DataFrame(x_train_hog).to_csv('/content/drive/MyDrive/Colab Notebooks/dataML/Data_HOG/x_train_hog.csv', header= None, index=None)\n",
        "pd.DataFrame(x_test_hog).to_csv('/content/drive/MyDrive/Colab Notebooks/dataML/Data_HOG/x_test_hog.csv', header= None, index=None)\n",
        "pd.DataFrame(y_train).to_csv('/content/drive/MyDrive/Colab Notebooks/dataML/Data_HOG/y_train_hog.csv', header= None, index=None)\n",
        "pd.DataFrame(y_test).to_csv('/content/drive/MyDrive/Colab Notebooks/dataML/Data_HOG/y_test_hog.csv', header= None, index=None)"
      ],
      "execution_count": 71,
      "outputs": []
    }
  ]
}