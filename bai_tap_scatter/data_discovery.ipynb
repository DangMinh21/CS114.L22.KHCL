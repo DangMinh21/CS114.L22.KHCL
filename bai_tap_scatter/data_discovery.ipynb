{
  "nbformat": 4,
  "nbformat_minor": 0,
  "metadata": {
    "colab": {
      "name": "data_discovery.ipynb",
      "provenance": [],
      "collapsed_sections": []
    },
    "kernelspec": {
      "name": "python3",
      "display_name": "Python 3"
    },
    "language_info": {
      "name": "python"
    }
  },
  "cells": [
    {
      "cell_type": "markdown",
      "metadata": {
        "id": "XJAj8e1yLcCj"
      },
      "source": [
        "# Import thư viện và đọc dư liệu"
      ]
    },
    {
      "cell_type": "code",
      "metadata": {
        "id": "DUJZwf3DkZCb"
      },
      "source": [
        "import pandas as pd\n",
        "import numpy as np\n",
        "import matplotlib.pyplot as plt\n",
        "from sklearn.linear_model import LinearRegression\n",
        "from sklearn.model_selection import train_test_split\n",
        "from sklearn.metrics import mean_squared_error"
      ],
      "execution_count": 209,
      "outputs": []
    },
    {
      "cell_type": "code",
      "metadata": {
        "id": "Ocofcmmh7kxd"
      },
      "source": [
        "def load_data(url):\n",
        "  link = 'https://drive.google.com/uc?id=' + url.split('/')[-2]\n",
        "  data = pd.read_csv(link)\n",
        "  return data\n",
        "\n",
        "wecode_data_url = 'https://drive.google.com/file/d/1G3Mt-D-yrI3bcZnnnwGEpI6whwTiPWP1/view?usp=sharing'\n",
        "score_training_url = 'https://drive.google.com/file/d/1FB2rBzu7PayeXW4Je_eK0f9o38W0CB3X/view?usp=sharing'\n",
        "wecode_data = load_data(wecode_data_url)\n",
        "score_training = load_data(score_training_url)"
      ],
      "execution_count": 210,
      "outputs": []
    },
    {
      "cell_type": "markdown",
      "metadata": {
        "id": "Ta57JjedNHdQ"
      },
      "source": [
        "# xem và sử lý dữ liệu"
      ]
    },
    {
      "cell_type": "code",
      "metadata": {
        "colab": {
          "base_uri": "https://localhost:8080/",
          "height": 195
        },
        "id": "DOchn-q88fy4",
        "outputId": "f9b2e5eb-a80b-41e0-bd0b-467ed2a565f8"
      },
      "source": [
        "wecode_data.head()"
      ],
      "execution_count": 211,
      "outputs": [
        {
          "output_type": "execute_result",
          "data": {
            "text/html": [
              "<div>\n",
              "<style scoped>\n",
              "    .dataframe tbody tr th:only-of-type {\n",
              "        vertical-align: middle;\n",
              "    }\n",
              "\n",
              "    .dataframe tbody tr th {\n",
              "        vertical-align: top;\n",
              "    }\n",
              "\n",
              "    .dataframe thead th {\n",
              "        text-align: right;\n",
              "    }\n",
              "</style>\n",
              "<table border=\"1\" class=\"dataframe\">\n",
              "  <thead>\n",
              "    <tr style=\"text-align: right;\">\n",
              "      <th></th>\n",
              "      <th>id</th>\n",
              "      <th>assignment_id</th>\n",
              "      <th>problem_id</th>\n",
              "      <th>user_id</th>\n",
              "      <th>is_final</th>\n",
              "      <th>status</th>\n",
              "      <th>pre_score</th>\n",
              "      <th>coefficient</th>\n",
              "      <th>file_name</th>\n",
              "      <th>language_id</th>\n",
              "      <th>created_at</th>\n",
              "      <th>updated_at</th>\n",
              "    </tr>\n",
              "  </thead>\n",
              "  <tbody>\n",
              "    <tr>\n",
              "      <th>0</th>\n",
              "      <td>4</td>\n",
              "      <td>0</td>\n",
              "      <td>3</td>\n",
              "      <td>4</td>\n",
              "      <td>1</td>\n",
              "      <td>SCORE</td>\n",
              "      <td>10000</td>\n",
              "      <td>100</td>\n",
              "      <td>solution-0</td>\n",
              "      <td>2</td>\n",
              "      <td>2020-10-30 10:58:11</td>\n",
              "      <td>2020-10-30 10:58:19</td>\n",
              "    </tr>\n",
              "    <tr>\n",
              "      <th>1</th>\n",
              "      <td>5</td>\n",
              "      <td>0</td>\n",
              "      <td>4</td>\n",
              "      <td>4</td>\n",
              "      <td>1</td>\n",
              "      <td>SCORE</td>\n",
              "      <td>10000</td>\n",
              "      <td>100</td>\n",
              "      <td>solution-1</td>\n",
              "      <td>2</td>\n",
              "      <td>2020-10-30 11:07:09</td>\n",
              "      <td>2020-10-30 11:07:17</td>\n",
              "    </tr>\n",
              "    <tr>\n",
              "      <th>2</th>\n",
              "      <td>6</td>\n",
              "      <td>0</td>\n",
              "      <td>5</td>\n",
              "      <td>4</td>\n",
              "      <td>0</td>\n",
              "      <td>Compilation Error</td>\n",
              "      <td>0</td>\n",
              "      <td>100</td>\n",
              "      <td>solution-2</td>\n",
              "      <td>2</td>\n",
              "      <td>2020-10-30 11:08:01</td>\n",
              "      <td>2020-10-30 11:23:36</td>\n",
              "    </tr>\n",
              "    <tr>\n",
              "      <th>3</th>\n",
              "      <td>7</td>\n",
              "      <td>0</td>\n",
              "      <td>5</td>\n",
              "      <td>4</td>\n",
              "      <td>0</td>\n",
              "      <td>Compilation Error</td>\n",
              "      <td>0</td>\n",
              "      <td>100</td>\n",
              "      <td>solution-3</td>\n",
              "      <td>2</td>\n",
              "      <td>2020-10-30 11:11:41</td>\n",
              "      <td>2020-10-30 11:11:42</td>\n",
              "    </tr>\n",
              "    <tr>\n",
              "      <th>4</th>\n",
              "      <td>8</td>\n",
              "      <td>0</td>\n",
              "      <td>5</td>\n",
              "      <td>4</td>\n",
              "      <td>0</td>\n",
              "      <td>Compilation Error</td>\n",
              "      <td>0</td>\n",
              "      <td>100</td>\n",
              "      <td>solution-4</td>\n",
              "      <td>2</td>\n",
              "      <td>2020-10-30 11:15:06</td>\n",
              "      <td>2020-10-30 11:15:07</td>\n",
              "    </tr>\n",
              "  </tbody>\n",
              "</table>\n",
              "</div>"
            ],
            "text/plain": [
              "   id  assignment_id  ...           created_at           updated_at\n",
              "0   4              0  ...  2020-10-30 10:58:11  2020-10-30 10:58:19\n",
              "1   5              0  ...  2020-10-30 11:07:09  2020-10-30 11:07:17\n",
              "2   6              0  ...  2020-10-30 11:08:01  2020-10-30 11:23:36\n",
              "3   7              0  ...  2020-10-30 11:11:41  2020-10-30 11:11:42\n",
              "4   8              0  ...  2020-10-30 11:15:06  2020-10-30 11:15:07\n",
              "\n",
              "[5 rows x 12 columns]"
            ]
          },
          "metadata": {
            "tags": []
          },
          "execution_count": 211
        }
      ]
    },
    {
      "cell_type": "code",
      "metadata": {
        "colab": {
          "base_uri": "https://localhost:8080/"
        },
        "id": "a4GW58lvL26i",
        "outputId": "7337f6c7-033e-422e-eb64-026a8965d280"
      },
      "source": [
        "wecode_data.info()"
      ],
      "execution_count": 212,
      "outputs": [
        {
          "output_type": "stream",
          "text": [
            "<class 'pandas.core.frame.DataFrame'>\n",
            "RangeIndex: 264606 entries, 0 to 264605\n",
            "Data columns (total 12 columns):\n",
            " #   Column         Non-Null Count   Dtype \n",
            "---  ------         --------------   ----- \n",
            " 0   id             264606 non-null  int64 \n",
            " 1   assignment_id  264606 non-null  int64 \n",
            " 2   problem_id     264606 non-null  int64 \n",
            " 3   user_id        264606 non-null  int64 \n",
            " 4   is_final       264606 non-null  int64 \n",
            " 5   status         264605 non-null  object\n",
            " 6   pre_score      264606 non-null  int64 \n",
            " 7   coefficient    264606 non-null  object\n",
            " 8   file_name      264606 non-null  object\n",
            " 9   language_id    264606 non-null  int64 \n",
            " 10  created_at     264606 non-null  object\n",
            " 11  updated_at     264606 non-null  object\n",
            "dtypes: int64(7), object(5)\n",
            "memory usage: 24.2+ MB\n"
          ],
          "name": "stdout"
        }
      ]
    },
    {
      "cell_type": "markdown",
      "metadata": {
        "id": "6A-iWCEnAZov"
      },
      "source": [
        "## label"
      ]
    },
    {
      "cell_type": "code",
      "metadata": {
        "colab": {
          "base_uri": "https://localhost:8080/",
          "height": 402
        },
        "id": "BL3rhV6xP1-p",
        "outputId": "99f79c3a-1937-441f-9d28-4439e6b8b3b1"
      },
      "source": [
        "#lay diem cuoi ki lam label\n",
        "label = pd.DataFrame(score_training['id'])\n",
        "label.rename(columns={'id':'user_id'}, inplace=True)\n",
        "label['final_score'] = score_training['CK'].apply(pd.to_numeric, errors='coerce')\n",
        "label.reindex()\n"
      ],
      "execution_count": 213,
      "outputs": [
        {
          "output_type": "execute_result",
          "data": {
            "text/html": [
              "<div>\n",
              "<style scoped>\n",
              "    .dataframe tbody tr th:only-of-type {\n",
              "        vertical-align: middle;\n",
              "    }\n",
              "\n",
              "    .dataframe tbody tr th {\n",
              "        vertical-align: top;\n",
              "    }\n",
              "\n",
              "    .dataframe thead th {\n",
              "        text-align: right;\n",
              "    }\n",
              "</style>\n",
              "<table border=\"1\" class=\"dataframe\">\n",
              "  <thead>\n",
              "    <tr style=\"text-align: right;\">\n",
              "      <th></th>\n",
              "      <th>user_id</th>\n",
              "      <th>final_score</th>\n",
              "    </tr>\n",
              "  </thead>\n",
              "  <tbody>\n",
              "    <tr>\n",
              "      <th>0</th>\n",
              "      <td>22</td>\n",
              "      <td>8.5</td>\n",
              "    </tr>\n",
              "    <tr>\n",
              "      <th>1</th>\n",
              "      <td>24</td>\n",
              "      <td>9.5</td>\n",
              "    </tr>\n",
              "    <tr>\n",
              "      <th>2</th>\n",
              "      <td>27</td>\n",
              "      <td>10.0</td>\n",
              "    </tr>\n",
              "    <tr>\n",
              "      <th>3</th>\n",
              "      <td>28</td>\n",
              "      <td>9.5</td>\n",
              "    </tr>\n",
              "    <tr>\n",
              "      <th>4</th>\n",
              "      <td>29</td>\n",
              "      <td>8.5</td>\n",
              "    </tr>\n",
              "    <tr>\n",
              "      <th>...</th>\n",
              "      <td>...</td>\n",
              "      <td>...</td>\n",
              "    </tr>\n",
              "    <tr>\n",
              "      <th>970</th>\n",
              "      <td>1857</td>\n",
              "      <td>4.0</td>\n",
              "    </tr>\n",
              "    <tr>\n",
              "      <th>971</th>\n",
              "      <td>1859</td>\n",
              "      <td>1.5</td>\n",
              "    </tr>\n",
              "    <tr>\n",
              "      <th>972</th>\n",
              "      <td>1862</td>\n",
              "      <td>7.5</td>\n",
              "    </tr>\n",
              "    <tr>\n",
              "      <th>973</th>\n",
              "      <td>1865</td>\n",
              "      <td>7.5</td>\n",
              "    </tr>\n",
              "    <tr>\n",
              "      <th>974</th>\n",
              "      <td>1866</td>\n",
              "      <td>5.0</td>\n",
              "    </tr>\n",
              "  </tbody>\n",
              "</table>\n",
              "<p>975 rows × 2 columns</p>\n",
              "</div>"
            ],
            "text/plain": [
              "     user_id  final_score\n",
              "0         22          8.5\n",
              "1         24          9.5\n",
              "2         27         10.0\n",
              "3         28          9.5\n",
              "4         29          8.5\n",
              "..       ...          ...\n",
              "970     1857          4.0\n",
              "971     1859          1.5\n",
              "972     1862          7.5\n",
              "973     1865          7.5\n",
              "974     1866          5.0\n",
              "\n",
              "[975 rows x 2 columns]"
            ]
          },
          "metadata": {
            "tags": []
          },
          "execution_count": 213
        }
      ]
    },
    {
      "cell_type": "markdown",
      "metadata": {
        "id": "J-0vlt5NAdfn"
      },
      "source": [
        "## feature"
      ]
    },
    {
      "cell_type": "code",
      "metadata": {
        "id": "OEIbl2h49HHY",
        "colab": {
          "base_uri": "https://localhost:8080/"
        },
        "outputId": "1bb266cc-9006-49d7-9d02-6c1d32d3230f"
      },
      "source": [
        "# so user\n",
        "wecode_data['user_id'].nunique()"
      ],
      "execution_count": 214,
      "outputs": [
        {
          "output_type": "execute_result",
          "data": {
            "text/plain": [
              "1159"
            ]
          },
          "metadata": {
            "tags": []
          },
          "execution_count": 214
        }
      ]
    },
    {
      "cell_type": "code",
      "metadata": {
        "id": "5UgMUrHoB_9J"
      },
      "source": [
        "# số lần submit\n",
        "n_submit = wecode_data.groupby('user_id').size()\n",
        "\n",
        "# so problem tham gia giai\n",
        "solve_problem = wecode_data.groupby('user_id')['problem_id'].nunique()\n",
        "\n",
        "# so problem da giai quyet xong\n",
        "solved_problem = wecode_data[(wecode_data['is_final'] == 1) & (wecode_data['pre_score'] == 10000)].groupby('user_id')['problem_id'].nunique()\n",
        "solved_problem = solved_problem.reindex(user_id, fill_value = 0)\n",
        "\n",
        "# tong pre_score co is_final = 1 cua moi sv\n",
        "sum_pres_core = wecode_data[wecode_data['is_final'] == 1].groupby('user_id')['pre_score'].sum()\n",
        "\n",
        "data = pd.DataFrame({'n_submits': n_submit,\n",
        "                     'solve_problems': solve_problem,\n",
        "                     'solved_problems': solved_problem,\n",
        "                     'sum_pre_score_is_final':sum_pre_score})\n",
        "# tỉ lệ vấn đề đã giải quyết trên số vấn đề tham gia giải quyết\n",
        "data['solved_problem/solve_problem'] = data['solved_problems']/data['solve_problems']\n",
        "# tỉ lệ vấn đề tham gia giải quyết và số submittions\n",
        "data['solve_problem/n_submit'] = data['solve_problems']/data['n_submits']\n",
        "data.reset_index(inplace=True)"
      ],
      "execution_count": 215,
      "outputs": []
    },
    {
      "cell_type": "code",
      "metadata": {
        "colab": {
          "base_uri": "https://localhost:8080/",
          "height": 195
        },
        "id": "S6eK6A_pWZq3",
        "outputId": "cee930d3-20e7-46fa-c351-73c156c16314"
      },
      "source": [
        "data.head()"
      ],
      "execution_count": 216,
      "outputs": [
        {
          "output_type": "execute_result",
          "data": {
            "text/html": [
              "<div>\n",
              "<style scoped>\n",
              "    .dataframe tbody tr th:only-of-type {\n",
              "        vertical-align: middle;\n",
              "    }\n",
              "\n",
              "    .dataframe tbody tr th {\n",
              "        vertical-align: top;\n",
              "    }\n",
              "\n",
              "    .dataframe thead th {\n",
              "        text-align: right;\n",
              "    }\n",
              "</style>\n",
              "<table border=\"1\" class=\"dataframe\">\n",
              "  <thead>\n",
              "    <tr style=\"text-align: right;\">\n",
              "      <th></th>\n",
              "      <th>user_id</th>\n",
              "      <th>n_submits</th>\n",
              "      <th>solve_problems</th>\n",
              "      <th>solved_problems</th>\n",
              "      <th>sum_pre_score_is_final</th>\n",
              "      <th>solved_problem/solve_problem</th>\n",
              "      <th>solve_problem/n_submit</th>\n",
              "    </tr>\n",
              "  </thead>\n",
              "  <tbody>\n",
              "    <tr>\n",
              "      <th>0</th>\n",
              "      <td>1</td>\n",
              "      <td>2</td>\n",
              "      <td>2</td>\n",
              "      <td>1</td>\n",
              "      <td>10000.0</td>\n",
              "      <td>0.500000</td>\n",
              "      <td>1.000000</td>\n",
              "    </tr>\n",
              "    <tr>\n",
              "      <th>1</th>\n",
              "      <td>4</td>\n",
              "      <td>54</td>\n",
              "      <td>41</td>\n",
              "      <td>37</td>\n",
              "      <td>370000.0</td>\n",
              "      <td>0.902439</td>\n",
              "      <td>0.759259</td>\n",
              "    </tr>\n",
              "    <tr>\n",
              "      <th>2</th>\n",
              "      <td>5</td>\n",
              "      <td>6</td>\n",
              "      <td>5</td>\n",
              "      <td>3</td>\n",
              "      <td>30000.0</td>\n",
              "      <td>0.600000</td>\n",
              "      <td>0.833333</td>\n",
              "    </tr>\n",
              "    <tr>\n",
              "      <th>3</th>\n",
              "      <td>6</td>\n",
              "      <td>130</td>\n",
              "      <td>88</td>\n",
              "      <td>84</td>\n",
              "      <td>850000.0</td>\n",
              "      <td>0.954545</td>\n",
              "      <td>0.676923</td>\n",
              "    </tr>\n",
              "    <tr>\n",
              "      <th>4</th>\n",
              "      <td>7</td>\n",
              "      <td>5</td>\n",
              "      <td>2</td>\n",
              "      <td>0</td>\n",
              "      <td>9209.0</td>\n",
              "      <td>0.000000</td>\n",
              "      <td>0.400000</td>\n",
              "    </tr>\n",
              "  </tbody>\n",
              "</table>\n",
              "</div>"
            ],
            "text/plain": [
              "   user_id  n_submits  ...  solved_problem/solve_problem  solve_problem/n_submit\n",
              "0        1          2  ...                      0.500000                1.000000\n",
              "1        4         54  ...                      0.902439                0.759259\n",
              "2        5          6  ...                      0.600000                0.833333\n",
              "3        6        130  ...                      0.954545                0.676923\n",
              "4        7          5  ...                      0.000000                0.400000\n",
              "\n",
              "[5 rows x 7 columns]"
            ]
          },
          "metadata": {
            "tags": []
          },
          "execution_count": 216
        }
      ]
    },
    {
      "cell_type": "code",
      "metadata": {
        "colab": {
          "base_uri": "https://localhost:8080/",
          "height": 402
        },
        "id": "466e3kv1qsRv",
        "outputId": "5840d273-5f83-4995-8ab7-43f7c1c7fbfb"
      },
      "source": [
        "# kết hợp features và label\n",
        "data = pd.merge(data, label, on='user_id', how='inner')\n",
        "data"
      ],
      "execution_count": 217,
      "outputs": [
        {
          "output_type": "execute_result",
          "data": {
            "text/html": [
              "<div>\n",
              "<style scoped>\n",
              "    .dataframe tbody tr th:only-of-type {\n",
              "        vertical-align: middle;\n",
              "    }\n",
              "\n",
              "    .dataframe tbody tr th {\n",
              "        vertical-align: top;\n",
              "    }\n",
              "\n",
              "    .dataframe thead th {\n",
              "        text-align: right;\n",
              "    }\n",
              "</style>\n",
              "<table border=\"1\" class=\"dataframe\">\n",
              "  <thead>\n",
              "    <tr style=\"text-align: right;\">\n",
              "      <th></th>\n",
              "      <th>user_id</th>\n",
              "      <th>n_submits</th>\n",
              "      <th>solve_problems</th>\n",
              "      <th>solved_problems</th>\n",
              "      <th>sum_pre_score_is_final</th>\n",
              "      <th>solved_problem/solve_problem</th>\n",
              "      <th>solve_problem/n_submit</th>\n",
              "      <th>final_score</th>\n",
              "    </tr>\n",
              "  </thead>\n",
              "  <tbody>\n",
              "    <tr>\n",
              "      <th>0</th>\n",
              "      <td>24</td>\n",
              "      <td>164</td>\n",
              "      <td>78</td>\n",
              "      <td>72</td>\n",
              "      <td>750299.0</td>\n",
              "      <td>0.923077</td>\n",
              "      <td>0.475610</td>\n",
              "      <td>9.5</td>\n",
              "    </tr>\n",
              "    <tr>\n",
              "      <th>1</th>\n",
              "      <td>27</td>\n",
              "      <td>13</td>\n",
              "      <td>5</td>\n",
              "      <td>3</td>\n",
              "      <td>39000.0</td>\n",
              "      <td>0.600000</td>\n",
              "      <td>0.384615</td>\n",
              "      <td>10.0</td>\n",
              "    </tr>\n",
              "    <tr>\n",
              "      <th>2</th>\n",
              "      <td>29</td>\n",
              "      <td>199</td>\n",
              "      <td>80</td>\n",
              "      <td>72</td>\n",
              "      <td>762760.0</td>\n",
              "      <td>0.900000</td>\n",
              "      <td>0.402010</td>\n",
              "      <td>8.5</td>\n",
              "    </tr>\n",
              "    <tr>\n",
              "      <th>3</th>\n",
              "      <td>34</td>\n",
              "      <td>218</td>\n",
              "      <td>84</td>\n",
              "      <td>81</td>\n",
              "      <td>822888.0</td>\n",
              "      <td>0.964286</td>\n",
              "      <td>0.385321</td>\n",
              "      <td>6.5</td>\n",
              "    </tr>\n",
              "    <tr>\n",
              "      <th>4</th>\n",
              "      <td>35</td>\n",
              "      <td>297</td>\n",
              "      <td>147</td>\n",
              "      <td>140</td>\n",
              "      <td>1477000.0</td>\n",
              "      <td>0.952381</td>\n",
              "      <td>0.494949</td>\n",
              "      <td>4.5</td>\n",
              "    </tr>\n",
              "    <tr>\n",
              "      <th>...</th>\n",
              "      <td>...</td>\n",
              "      <td>...</td>\n",
              "      <td>...</td>\n",
              "      <td>...</td>\n",
              "      <td>...</td>\n",
              "      <td>...</td>\n",
              "      <td>...</td>\n",
              "      <td>...</td>\n",
              "    </tr>\n",
              "    <tr>\n",
              "      <th>848</th>\n",
              "      <td>1856</td>\n",
              "      <td>64</td>\n",
              "      <td>31</td>\n",
              "      <td>23</td>\n",
              "      <td>270790.0</td>\n",
              "      <td>0.741935</td>\n",
              "      <td>0.484375</td>\n",
              "      <td>7.5</td>\n",
              "    </tr>\n",
              "    <tr>\n",
              "      <th>849</th>\n",
              "      <td>1857</td>\n",
              "      <td>55</td>\n",
              "      <td>34</td>\n",
              "      <td>33</td>\n",
              "      <td>386000.0</td>\n",
              "      <td>0.970588</td>\n",
              "      <td>0.618182</td>\n",
              "      <td>4.0</td>\n",
              "    </tr>\n",
              "    <tr>\n",
              "      <th>850</th>\n",
              "      <td>1859</td>\n",
              "      <td>31</td>\n",
              "      <td>27</td>\n",
              "      <td>3</td>\n",
              "      <td>39000.0</td>\n",
              "      <td>0.111111</td>\n",
              "      <td>0.870968</td>\n",
              "      <td>1.5</td>\n",
              "    </tr>\n",
              "    <tr>\n",
              "      <th>851</th>\n",
              "      <td>1862</td>\n",
              "      <td>12</td>\n",
              "      <td>6</td>\n",
              "      <td>4</td>\n",
              "      <td>40000.0</td>\n",
              "      <td>0.666667</td>\n",
              "      <td>0.500000</td>\n",
              "      <td>7.5</td>\n",
              "    </tr>\n",
              "    <tr>\n",
              "      <th>852</th>\n",
              "      <td>1865</td>\n",
              "      <td>99</td>\n",
              "      <td>17</td>\n",
              "      <td>10</td>\n",
              "      <td>116428.0</td>\n",
              "      <td>0.588235</td>\n",
              "      <td>0.171717</td>\n",
              "      <td>7.5</td>\n",
              "    </tr>\n",
              "  </tbody>\n",
              "</table>\n",
              "<p>853 rows × 8 columns</p>\n",
              "</div>"
            ],
            "text/plain": [
              "     user_id  n_submits  ...  solve_problem/n_submit  final_score\n",
              "0         24        164  ...                0.475610          9.5\n",
              "1         27         13  ...                0.384615         10.0\n",
              "2         29        199  ...                0.402010          8.5\n",
              "3         34        218  ...                0.385321          6.5\n",
              "4         35        297  ...                0.494949          4.5\n",
              "..       ...        ...  ...                     ...          ...\n",
              "848     1856         64  ...                0.484375          7.5\n",
              "849     1857         55  ...                0.618182          4.0\n",
              "850     1859         31  ...                0.870968          1.5\n",
              "851     1862         12  ...                0.500000          7.5\n",
              "852     1865         99  ...                0.171717          7.5\n",
              "\n",
              "[853 rows x 8 columns]"
            ]
          },
          "metadata": {
            "tags": []
          },
          "execution_count": 217
        }
      ]
    },
    {
      "cell_type": "code",
      "metadata": {
        "colab": {
          "base_uri": "https://localhost:8080/",
          "height": 402
        },
        "id": "dP1vA6xxs2nk",
        "outputId": "abff9085-317b-43d9-fa3e-d92ad05f33a9"
      },
      "source": [
        "#Bỏ row có chứa Nan\n",
        "data.dropna(axis=0, inplace=True)\n",
        "data"
      ],
      "execution_count": 218,
      "outputs": [
        {
          "output_type": "execute_result",
          "data": {
            "text/html": [
              "<div>\n",
              "<style scoped>\n",
              "    .dataframe tbody tr th:only-of-type {\n",
              "        vertical-align: middle;\n",
              "    }\n",
              "\n",
              "    .dataframe tbody tr th {\n",
              "        vertical-align: top;\n",
              "    }\n",
              "\n",
              "    .dataframe thead th {\n",
              "        text-align: right;\n",
              "    }\n",
              "</style>\n",
              "<table border=\"1\" class=\"dataframe\">\n",
              "  <thead>\n",
              "    <tr style=\"text-align: right;\">\n",
              "      <th></th>\n",
              "      <th>user_id</th>\n",
              "      <th>n_submits</th>\n",
              "      <th>solve_problems</th>\n",
              "      <th>solved_problems</th>\n",
              "      <th>sum_pre_score_is_final</th>\n",
              "      <th>solved_problem/solve_problem</th>\n",
              "      <th>solve_problem/n_submit</th>\n",
              "      <th>final_score</th>\n",
              "    </tr>\n",
              "  </thead>\n",
              "  <tbody>\n",
              "    <tr>\n",
              "      <th>0</th>\n",
              "      <td>24</td>\n",
              "      <td>164</td>\n",
              "      <td>78</td>\n",
              "      <td>72</td>\n",
              "      <td>750299.0</td>\n",
              "      <td>0.923077</td>\n",
              "      <td>0.475610</td>\n",
              "      <td>9.5</td>\n",
              "    </tr>\n",
              "    <tr>\n",
              "      <th>1</th>\n",
              "      <td>27</td>\n",
              "      <td>13</td>\n",
              "      <td>5</td>\n",
              "      <td>3</td>\n",
              "      <td>39000.0</td>\n",
              "      <td>0.600000</td>\n",
              "      <td>0.384615</td>\n",
              "      <td>10.0</td>\n",
              "    </tr>\n",
              "    <tr>\n",
              "      <th>2</th>\n",
              "      <td>29</td>\n",
              "      <td>199</td>\n",
              "      <td>80</td>\n",
              "      <td>72</td>\n",
              "      <td>762760.0</td>\n",
              "      <td>0.900000</td>\n",
              "      <td>0.402010</td>\n",
              "      <td>8.5</td>\n",
              "    </tr>\n",
              "    <tr>\n",
              "      <th>3</th>\n",
              "      <td>34</td>\n",
              "      <td>218</td>\n",
              "      <td>84</td>\n",
              "      <td>81</td>\n",
              "      <td>822888.0</td>\n",
              "      <td>0.964286</td>\n",
              "      <td>0.385321</td>\n",
              "      <td>6.5</td>\n",
              "    </tr>\n",
              "    <tr>\n",
              "      <th>4</th>\n",
              "      <td>35</td>\n",
              "      <td>297</td>\n",
              "      <td>147</td>\n",
              "      <td>140</td>\n",
              "      <td>1477000.0</td>\n",
              "      <td>0.952381</td>\n",
              "      <td>0.494949</td>\n",
              "      <td>4.5</td>\n",
              "    </tr>\n",
              "    <tr>\n",
              "      <th>...</th>\n",
              "      <td>...</td>\n",
              "      <td>...</td>\n",
              "      <td>...</td>\n",
              "      <td>...</td>\n",
              "      <td>...</td>\n",
              "      <td>...</td>\n",
              "      <td>...</td>\n",
              "      <td>...</td>\n",
              "    </tr>\n",
              "    <tr>\n",
              "      <th>848</th>\n",
              "      <td>1856</td>\n",
              "      <td>64</td>\n",
              "      <td>31</td>\n",
              "      <td>23</td>\n",
              "      <td>270790.0</td>\n",
              "      <td>0.741935</td>\n",
              "      <td>0.484375</td>\n",
              "      <td>7.5</td>\n",
              "    </tr>\n",
              "    <tr>\n",
              "      <th>849</th>\n",
              "      <td>1857</td>\n",
              "      <td>55</td>\n",
              "      <td>34</td>\n",
              "      <td>33</td>\n",
              "      <td>386000.0</td>\n",
              "      <td>0.970588</td>\n",
              "      <td>0.618182</td>\n",
              "      <td>4.0</td>\n",
              "    </tr>\n",
              "    <tr>\n",
              "      <th>850</th>\n",
              "      <td>1859</td>\n",
              "      <td>31</td>\n",
              "      <td>27</td>\n",
              "      <td>3</td>\n",
              "      <td>39000.0</td>\n",
              "      <td>0.111111</td>\n",
              "      <td>0.870968</td>\n",
              "      <td>1.5</td>\n",
              "    </tr>\n",
              "    <tr>\n",
              "      <th>851</th>\n",
              "      <td>1862</td>\n",
              "      <td>12</td>\n",
              "      <td>6</td>\n",
              "      <td>4</td>\n",
              "      <td>40000.0</td>\n",
              "      <td>0.666667</td>\n",
              "      <td>0.500000</td>\n",
              "      <td>7.5</td>\n",
              "    </tr>\n",
              "    <tr>\n",
              "      <th>852</th>\n",
              "      <td>1865</td>\n",
              "      <td>99</td>\n",
              "      <td>17</td>\n",
              "      <td>10</td>\n",
              "      <td>116428.0</td>\n",
              "      <td>0.588235</td>\n",
              "      <td>0.171717</td>\n",
              "      <td>7.5</td>\n",
              "    </tr>\n",
              "  </tbody>\n",
              "</table>\n",
              "<p>805 rows × 8 columns</p>\n",
              "</div>"
            ],
            "text/plain": [
              "     user_id  n_submits  ...  solve_problem/n_submit  final_score\n",
              "0         24        164  ...                0.475610          9.5\n",
              "1         27         13  ...                0.384615         10.0\n",
              "2         29        199  ...                0.402010          8.5\n",
              "3         34        218  ...                0.385321          6.5\n",
              "4         35        297  ...                0.494949          4.5\n",
              "..       ...        ...  ...                     ...          ...\n",
              "848     1856         64  ...                0.484375          7.5\n",
              "849     1857         55  ...                0.618182          4.0\n",
              "850     1859         31  ...                0.870968          1.5\n",
              "851     1862         12  ...                0.500000          7.5\n",
              "852     1865         99  ...                0.171717          7.5\n",
              "\n",
              "[805 rows x 8 columns]"
            ]
          },
          "metadata": {
            "tags": []
          },
          "execution_count": 218
        }
      ]
    },
    {
      "cell_type": "markdown",
      "metadata": {
        "id": "rH1Bl7R1qqGz"
      },
      "source": [
        "# visualize"
      ]
    },
    {
      "cell_type": "code",
      "metadata": {
        "colab": {
          "base_uri": "https://localhost:8080/",
          "height": 623
        },
        "id": "u2z4xRFztXs2",
        "outputId": "88854157-e5c1-4a2c-ddb2-d72c6061cee1"
      },
      "source": [
        "columns = data.columns\n",
        "plt.figure(figsize=(20, 10))\n",
        "plt.subplot(231)\n",
        "plt.scatter(data['n_submits'], data['final_score'])\n",
        "plt.xlabel('so lan submit')\n",
        "plt.ylabel('score')\n",
        "\n",
        "plt.subplot(232)\n",
        "plt.scatter(data['solve_problems'], data['final_score'])\n",
        "plt.xlabel('so problem tham gia giai quyet')\n",
        "plt.ylabel('score')\n",
        "\n",
        "plt.subplot(233)\n",
        "plt.scatter(data['solved_problems'], data['final_score'])\n",
        "plt.xlabel('so problem da lam xong')\n",
        "plt.ylabel('score')\n",
        "\n",
        "plt.subplot(234)\n",
        "plt.scatter(data['solved_problem/solve_problem'], data['final_score'])\n",
        "plt.xlabel('ti le problem da hoan thanh va problem tham gia lam')\n",
        "plt.ylabel('score')\n",
        "\n",
        "plt.subplot(235)\n",
        "plt.scatter(data['solve_problem/n_submit'], data['final_score'])\n",
        "plt.xlabel('ti le problem tham gia lam va so lan submit')\n",
        "plt.ylabel('score')\n",
        "\n",
        "plt.subplot(236)\n",
        "plt.scatter(data['sum_pre_score_is_final'], data['final_score'])\n",
        "plt.xlabel('tong phan tram test dung cua lan nop cuoi cung')\n",
        "plt.ylabel('score')\n"
      ],
      "execution_count": 219,
      "outputs": [
        {
          "output_type": "execute_result",
          "data": {
            "text/plain": [
              "Text(0, 0.5, 'score')"
            ]
          },
          "metadata": {
            "tags": []
          },
          "execution_count": 219
        },
        {
          "output_type": "display_data",
          "data": {
            "image/png": "[encoded data removed]",
            "text/plain": [
              "<Figure size 1440x720 with 6 Axes>"
            ]
          },
          "metadata": {
            "tags": [],
            "needs_background": "light"
          }
        }
      ]
    },
    {
      "cell_type": "markdown",
      "metadata": {
        "id": "cQRSJItu0N-4"
      },
      "source": [
        "# Model"
      ]
    },
    {
      "cell_type": "code",
      "metadata": {
        "colab": {
          "base_uri": "https://localhost:8080/",
          "height": 402
        },
        "id": "kIHRhWRB2yAK",
        "outputId": "3954e578-118a-4c18-a45e-1273dadfde56"
      },
      "source": [
        "data"
      ],
      "execution_count": 220,
      "outputs": [
        {
          "output_type": "execute_result",
          "data": {
            "text/html": [
              "<div>\n",
              "<style scoped>\n",
              "    .dataframe tbody tr th:only-of-type {\n",
              "        vertical-align: middle;\n",
              "    }\n",
              "\n",
              "    .dataframe tbody tr th {\n",
              "        vertical-align: top;\n",
              "    }\n",
              "\n",
              "    .dataframe thead th {\n",
              "        text-align: right;\n",
              "    }\n",
              "</style>\n",
              "<table border=\"1\" class=\"dataframe\">\n",
              "  <thead>\n",
              "    <tr style=\"text-align: right;\">\n",
              "      <th></th>\n",
              "      <th>user_id</th>\n",
              "      <th>n_submits</th>\n",
              "      <th>solve_problems</th>\n",
              "      <th>solved_problems</th>\n",
              "      <th>sum_pre_score_is_final</th>\n",
              "      <th>solved_problem/solve_problem</th>\n",
              "      <th>solve_problem/n_submit</th>\n",
              "      <th>final_score</th>\n",
              "    </tr>\n",
              "  </thead>\n",
              "  <tbody>\n",
              "    <tr>\n",
              "      <th>0</th>\n",
              "      <td>24</td>\n",
              "      <td>164</td>\n",
              "      <td>78</td>\n",
              "      <td>72</td>\n",
              "      <td>750299.0</td>\n",
              "      <td>0.923077</td>\n",
              "      <td>0.475610</td>\n",
              "      <td>9.5</td>\n",
              "    </tr>\n",
              "    <tr>\n",
              "      <th>1</th>\n",
              "      <td>27</td>\n",
              "      <td>13</td>\n",
              "      <td>5</td>\n",
              "      <td>3</td>\n",
              "      <td>39000.0</td>\n",
              "      <td>0.600000</td>\n",
              "      <td>0.384615</td>\n",
              "      <td>10.0</td>\n",
              "    </tr>\n",
              "    <tr>\n",
              "      <th>2</th>\n",
              "      <td>29</td>\n",
              "      <td>199</td>\n",
              "      <td>80</td>\n",
              "      <td>72</td>\n",
              "      <td>762760.0</td>\n",
              "      <td>0.900000</td>\n",
              "      <td>0.402010</td>\n",
              "      <td>8.5</td>\n",
              "    </tr>\n",
              "    <tr>\n",
              "      <th>3</th>\n",
              "      <td>34</td>\n",
              "      <td>218</td>\n",
              "      <td>84</td>\n",
              "      <td>81</td>\n",
              "      <td>822888.0</td>\n",
              "      <td>0.964286</td>\n",
              "      <td>0.385321</td>\n",
              "      <td>6.5</td>\n",
              "    </tr>\n",
              "    <tr>\n",
              "      <th>4</th>\n",
              "      <td>35</td>\n",
              "      <td>297</td>\n",
              "      <td>147</td>\n",
              "      <td>140</td>\n",
              "      <td>1477000.0</td>\n",
              "      <td>0.952381</td>\n",
              "      <td>0.494949</td>\n",
              "      <td>4.5</td>\n",
              "    </tr>\n",
              "    <tr>\n",
              "      <th>...</th>\n",
              "      <td>...</td>\n",
              "      <td>...</td>\n",
              "      <td>...</td>\n",
              "      <td>...</td>\n",
              "      <td>...</td>\n",
              "      <td>...</td>\n",
              "      <td>...</td>\n",
              "      <td>...</td>\n",
              "    </tr>\n",
              "    <tr>\n",
              "      <th>848</th>\n",
              "      <td>1856</td>\n",
              "      <td>64</td>\n",
              "      <td>31</td>\n",
              "      <td>23</td>\n",
              "      <td>270790.0</td>\n",
              "      <td>0.741935</td>\n",
              "      <td>0.484375</td>\n",
              "      <td>7.5</td>\n",
              "    </tr>\n",
              "    <tr>\n",
              "      <th>849</th>\n",
              "      <td>1857</td>\n",
              "      <td>55</td>\n",
              "      <td>34</td>\n",
              "      <td>33</td>\n",
              "      <td>386000.0</td>\n",
              "      <td>0.970588</td>\n",
              "      <td>0.618182</td>\n",
              "      <td>4.0</td>\n",
              "    </tr>\n",
              "    <tr>\n",
              "      <th>850</th>\n",
              "      <td>1859</td>\n",
              "      <td>31</td>\n",
              "      <td>27</td>\n",
              "      <td>3</td>\n",
              "      <td>39000.0</td>\n",
              "      <td>0.111111</td>\n",
              "      <td>0.870968</td>\n",
              "      <td>1.5</td>\n",
              "    </tr>\n",
              "    <tr>\n",
              "      <th>851</th>\n",
              "      <td>1862</td>\n",
              "      <td>12</td>\n",
              "      <td>6</td>\n",
              "      <td>4</td>\n",
              "      <td>40000.0</td>\n",
              "      <td>0.666667</td>\n",
              "      <td>0.500000</td>\n",
              "      <td>7.5</td>\n",
              "    </tr>\n",
              "    <tr>\n",
              "      <th>852</th>\n",
              "      <td>1865</td>\n",
              "      <td>99</td>\n",
              "      <td>17</td>\n",
              "      <td>10</td>\n",
              "      <td>116428.0</td>\n",
              "      <td>0.588235</td>\n",
              "      <td>0.171717</td>\n",
              "      <td>7.5</td>\n",
              "    </tr>\n",
              "  </tbody>\n",
              "</table>\n",
              "<p>805 rows × 8 columns</p>\n",
              "</div>"
            ],
            "text/plain": [
              "     user_id  n_submits  ...  solve_problem/n_submit  final_score\n",
              "0         24        164  ...                0.475610          9.5\n",
              "1         27         13  ...                0.384615         10.0\n",
              "2         29        199  ...                0.402010          8.5\n",
              "3         34        218  ...                0.385321          6.5\n",
              "4         35        297  ...                0.494949          4.5\n",
              "..       ...        ...  ...                     ...          ...\n",
              "848     1856         64  ...                0.484375          7.5\n",
              "849     1857         55  ...                0.618182          4.0\n",
              "850     1859         31  ...                0.870968          1.5\n",
              "851     1862         12  ...                0.500000          7.5\n",
              "852     1865         99  ...                0.171717          7.5\n",
              "\n",
              "[805 rows x 8 columns]"
            ]
          },
          "metadata": {
            "tags": []
          },
          "execution_count": 220
        }
      ]
    },
    {
      "cell_type": "code",
      "metadata": {
        "id": "YlAzFMRA0Vj9"
      },
      "source": [
        "# phan chia du lieu\n",
        "data.drop(['user_id'],axis=1, inplace=True)\n",
        "y = data['final_score']\n",
        "X = data.drop('final_score', axis=1)\n",
        "X_train, X_test, y_train, y_test = train_test_split(X, y, train_size=0.8, random_state=42)"
      ],
      "execution_count": 221,
      "outputs": []
    },
    {
      "cell_type": "code",
      "metadata": {
        "colab": {
          "base_uri": "https://localhost:8080/"
        },
        "id": "7Rz2y6Te1QVr",
        "outputId": "36a7a0e1-0229-4c9e-8aa4-47a720d711bb"
      },
      "source": [
        "#tạo model\n",
        "model = LinearRegression()\n",
        "model.fit(X_train, y_train)"
      ],
      "execution_count": 222,
      "outputs": [
        {
          "output_type": "execute_result",
          "data": {
            "text/plain": [
              "LinearRegression(copy_X=True, fit_intercept=True, n_jobs=None, normalize=False)"
            ]
          },
          "metadata": {
            "tags": []
          },
          "execution_count": 222
        }
      ]
    },
    {
      "cell_type": "code",
      "metadata": {
        "colab": {
          "base_uri": "https://localhost:8080/"
        },
        "id": "Cr9KkZB51cJl",
        "outputId": "7a253805-1cae-4c5f-e535-d9c52670e22a"
      },
      "source": [
        "# predict va tinh MSE\n",
        "y_pre = model.predict(X_test)\n",
        "MSE = mean_squared_error(y_pre, y_test)\n",
        "print(f'MSE: {MSE}')"
      ],
      "execution_count": 223,
      "outputs": [
        {
          "output_type": "stream",
          "text": [
            "MSE: 4.596023903805625\n"
          ],
          "name": "stdout"
        }
      ]
    }
  ]
}