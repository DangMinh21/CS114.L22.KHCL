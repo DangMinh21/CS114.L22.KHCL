{
  "nbformat": 4,
  "nbformat_minor": 0,
  "metadata": {
    "colab": {
      "name": "Du_doan_thoi _gian_chay.ipynb",
      "provenance": []
    },
    "kernelspec": {
      "name": "python3",
      "display_name": "Python 3"
    },
    "language_info": {
      "name": "python"
    }
  },
  "cells": [
    {
      "cell_type": "markdown",
      "metadata": {
        "id": "EEYjqv2yYUzT"
      },
      "source": [
        "# import libraries và load data"
      ]
    },
    {
      "cell_type": "code",
      "metadata": {
        "id": "HPK7ifAS5Fmc"
      },
      "source": [
        "import pandas as pd\n",
        "import numpy as np\n",
        "import matplotlib.pyplot as plt\n",
        "from sklearn.linear_model import LinearRegression\n",
        "from sklearn.metrics import mean_squared_error"
      ],
      "execution_count": 146,
      "outputs": []
    },
    {
      "cell_type": "code",
      "metadata": {
        "id": "mrfgNsdz8AOI"
      },
      "source": [
        "def load_data(url):\n",
        "  link = 'https://drive.google.com/uc?id=' + url.split('/')[-2]\n",
        "  data = pd.read_csv(link, names=['x', 'y'])\n",
        "  return data\n",
        "\n",
        "url_train = 'https://drive.google.com/file/d/1zeaJbYzQUN2esl8fPedRYcBh0Juw4_jm/view?usp=sharing'\n",
        "url_test = 'https://drive.google.com/file/d/16v06RJAst6ofHijResYJ2xUoeL36Sv2G/view?usp=sharing'\n",
        "\n",
        "train_data = load_data(url_train)\n",
        "test_data = load_data(url_test)"
      ],
      "execution_count": 147,
      "outputs": []
    },
    {
      "cell_type": "markdown",
      "metadata": {
        "id": "2Ja4_ffMYu8Y"
      },
      "source": [
        "# Data"
      ]
    },
    {
      "cell_type": "markdown",
      "metadata": {
        "id": "a--jTPo3a_YJ"
      },
      "source": [
        "## train data\n"
      ]
    },
    {
      "cell_type": "code",
      "metadata": {
        "colab": {
          "base_uri": "https://localhost:8080/",
          "height": 195
        },
        "id": "bI8J_8Fu9Kv0",
        "outputId": "e12821a0-c756-408f-a8ae-24dee2cb5bb2"
      },
      "source": [
        "#xem 5 hàng đầu của dữ liệu\n",
        "train_data.head()"
      ],
      "execution_count": 148,
      "outputs": [
        {
          "output_type": "execute_result",
          "data": {
            "text/html": [
              "<div>\n",
              "<style scoped>\n",
              "    .dataframe tbody tr th:only-of-type {\n",
              "        vertical-align: middle;\n",
              "    }\n",
              "\n",
              "    .dataframe tbody tr th {\n",
              "        vertical-align: top;\n",
              "    }\n",
              "\n",
              "    .dataframe thead th {\n",
              "        text-align: right;\n",
              "    }\n",
              "</style>\n",
              "<table border=\"1\" class=\"dataframe\">\n",
              "  <thead>\n",
              "    <tr style=\"text-align: right;\">\n",
              "      <th></th>\n",
              "      <th>x</th>\n",
              "      <th>y</th>\n",
              "    </tr>\n",
              "  </thead>\n",
              "  <tbody>\n",
              "    <tr>\n",
              "      <th>0</th>\n",
              "      <td>6083695</td>\n",
              "      <td>0.521842</td>\n",
              "    </tr>\n",
              "    <tr>\n",
              "      <th>1</th>\n",
              "      <td>1954367</td>\n",
              "      <td>0.152648</td>\n",
              "    </tr>\n",
              "    <tr>\n",
              "      <th>2</th>\n",
              "      <td>3734185</td>\n",
              "      <td>0.298548</td>\n",
              "    </tr>\n",
              "    <tr>\n",
              "      <th>3</th>\n",
              "      <td>5839301</td>\n",
              "      <td>0.460480</td>\n",
              "    </tr>\n",
              "    <tr>\n",
              "      <th>4</th>\n",
              "      <td>6343427</td>\n",
              "      <td>0.527977</td>\n",
              "    </tr>\n",
              "  </tbody>\n",
              "</table>\n",
              "</div>"
            ],
            "text/plain": [
              "         x         y\n",
              "0  6083695  0.521842\n",
              "1  1954367  0.152648\n",
              "2  3734185  0.298548\n",
              "3  5839301  0.460480\n",
              "4  6343427  0.527977"
            ]
          },
          "metadata": {
            "tags": []
          },
          "execution_count": 148
        }
      ]
    },
    {
      "cell_type": "code",
      "metadata": {
        "colab": {
          "base_uri": "https://localhost:8080/",
          "height": 284
        },
        "id": "T8v1HDHr-k3B",
        "outputId": "225d07ae-ff4f-4fd3-e551-6a6930489c1f"
      },
      "source": [
        "train_data.describe()"
      ],
      "execution_count": 149,
      "outputs": [
        {
          "output_type": "execute_result",
          "data": {
            "text/html": [
              "<div>\n",
              "<style scoped>\n",
              "    .dataframe tbody tr th:only-of-type {\n",
              "        vertical-align: middle;\n",
              "    }\n",
              "\n",
              "    .dataframe tbody tr th {\n",
              "        vertical-align: top;\n",
              "    }\n",
              "\n",
              "    .dataframe thead th {\n",
              "        text-align: right;\n",
              "    }\n",
              "</style>\n",
              "<table border=\"1\" class=\"dataframe\">\n",
              "  <thead>\n",
              "    <tr style=\"text-align: right;\">\n",
              "      <th></th>\n",
              "      <th>x</th>\n",
              "      <th>y</th>\n",
              "    </tr>\n",
              "  </thead>\n",
              "  <tbody>\n",
              "    <tr>\n",
              "      <th>count</th>\n",
              "      <td>7.111500e+04</td>\n",
              "      <td>71115.000000</td>\n",
              "    </tr>\n",
              "    <tr>\n",
              "      <th>mean</th>\n",
              "      <td>4.998766e+06</td>\n",
              "      <td>0.406785</td>\n",
              "    </tr>\n",
              "    <tr>\n",
              "      <th>std</th>\n",
              "      <td>2.882618e+06</td>\n",
              "      <td>0.244039</td>\n",
              "    </tr>\n",
              "    <tr>\n",
              "      <th>min</th>\n",
              "      <td>2.550000e+02</td>\n",
              "      <td>0.000009</td>\n",
              "    </tr>\n",
              "    <tr>\n",
              "      <th>25%</th>\n",
              "      <td>2.496521e+06</td>\n",
              "      <td>0.192746</td>\n",
              "    </tr>\n",
              "    <tr>\n",
              "      <th>50%</th>\n",
              "      <td>5.010144e+06</td>\n",
              "      <td>0.403410</td>\n",
              "    </tr>\n",
              "    <tr>\n",
              "      <th>75%</th>\n",
              "      <td>7.481742e+06</td>\n",
              "      <td>0.616155</td>\n",
              "    </tr>\n",
              "    <tr>\n",
              "      <th>max</th>\n",
              "      <td>9.999882e+06</td>\n",
              "      <td>0.983776</td>\n",
              "    </tr>\n",
              "  </tbody>\n",
              "</table>\n",
              "</div>"
            ],
            "text/plain": [
              "                  x             y\n",
              "count  7.111500e+04  71115.000000\n",
              "mean   4.998766e+06      0.406785\n",
              "std    2.882618e+06      0.244039\n",
              "min    2.550000e+02      0.000009\n",
              "25%    2.496521e+06      0.192746\n",
              "50%    5.010144e+06      0.403410\n",
              "75%    7.481742e+06      0.616155\n",
              "max    9.999882e+06      0.983776"
            ]
          },
          "metadata": {
            "tags": []
          },
          "execution_count": 149
        }
      ]
    },
    {
      "cell_type": "code",
      "metadata": {
        "colab": {
          "base_uri": "https://localhost:8080/"
        },
        "id": "7kq73ER1_jpC",
        "outputId": "64a85f8b-0d7c-4780-aa1c-bcbdd4c63f4a"
      },
      "source": [
        "train_data.info()"
      ],
      "execution_count": 150,
      "outputs": [
        {
          "output_type": "stream",
          "text": [
            "<class 'pandas.core.frame.DataFrame'>\n",
            "RangeIndex: 71115 entries, 0 to 71114\n",
            "Data columns (total 2 columns):\n",
            " #   Column  Non-Null Count  Dtype  \n",
            "---  ------  --------------  -----  \n",
            " 0   x       71115 non-null  int64  \n",
            " 1   y       71115 non-null  float64\n",
            "dtypes: float64(1), int64(1)\n",
            "memory usage: 1.1 MB\n"
          ],
          "name": "stdout"
        }
      ]
    },
    {
      "cell_type": "markdown",
      "metadata": {
        "id": "uUnoxPyqbEE1"
      },
      "source": [
        "## test data"
      ]
    },
    {
      "cell_type": "code",
      "metadata": {
        "colab": {
          "base_uri": "https://localhost:8080/",
          "height": 195
        },
        "id": "3RVHjXtDaJSU",
        "outputId": "2245506a-c227-4cb1-8c59-2f2e968fc249"
      },
      "source": [
        "test_data.head()"
      ],
      "execution_count": 151,
      "outputs": [
        {
          "output_type": "execute_result",
          "data": {
            "text/html": [
              "<div>\n",
              "<style scoped>\n",
              "    .dataframe tbody tr th:only-of-type {\n",
              "        vertical-align: middle;\n",
              "    }\n",
              "\n",
              "    .dataframe tbody tr th {\n",
              "        vertical-align: top;\n",
              "    }\n",
              "\n",
              "    .dataframe thead th {\n",
              "        text-align: right;\n",
              "    }\n",
              "</style>\n",
              "<table border=\"1\" class=\"dataframe\">\n",
              "  <thead>\n",
              "    <tr style=\"text-align: right;\">\n",
              "      <th></th>\n",
              "      <th>x</th>\n",
              "      <th>y</th>\n",
              "    </tr>\n",
              "  </thead>\n",
              "  <tbody>\n",
              "    <tr>\n",
              "      <th>0</th>\n",
              "      <td>37837612</td>\n",
              "      <td>4.12166</td>\n",
              "    </tr>\n",
              "    <tr>\n",
              "      <th>1</th>\n",
              "      <td>37395246</td>\n",
              "      <td>3.92089</td>\n",
              "    </tr>\n",
              "    <tr>\n",
              "      <th>2</th>\n",
              "      <td>36610827</td>\n",
              "      <td>3.21540</td>\n",
              "    </tr>\n",
              "    <tr>\n",
              "      <th>3</th>\n",
              "      <td>29555651</td>\n",
              "      <td>2.54506</td>\n",
              "    </tr>\n",
              "    <tr>\n",
              "      <th>4</th>\n",
              "      <td>25928216</td>\n",
              "      <td>2.21831</td>\n",
              "    </tr>\n",
              "  </tbody>\n",
              "</table>\n",
              "</div>"
            ],
            "text/plain": [
              "          x        y\n",
              "0  37837612  4.12166\n",
              "1  37395246  3.92089\n",
              "2  36610827  3.21540\n",
              "3  29555651  2.54506\n",
              "4  25928216  2.21831"
            ]
          },
          "metadata": {
            "tags": []
          },
          "execution_count": 151
        }
      ]
    },
    {
      "cell_type": "code",
      "metadata": {
        "colab": {
          "base_uri": "https://localhost:8080/",
          "height": 284
        },
        "id": "WoFJhmwRaN_m",
        "outputId": "dbe9b63a-91ce-4584-952f-b5706cc59b5a"
      },
      "source": [
        "test_data.describe()"
      ],
      "execution_count": 152,
      "outputs": [
        {
          "output_type": "execute_result",
          "data": {
            "text/html": [
              "<div>\n",
              "<style scoped>\n",
              "    .dataframe tbody tr th:only-of-type {\n",
              "        vertical-align: middle;\n",
              "    }\n",
              "\n",
              "    .dataframe tbody tr th {\n",
              "        vertical-align: top;\n",
              "    }\n",
              "\n",
              "    .dataframe thead th {\n",
              "        text-align: right;\n",
              "    }\n",
              "</style>\n",
              "<table border=\"1\" class=\"dataframe\">\n",
              "  <thead>\n",
              "    <tr style=\"text-align: right;\">\n",
              "      <th></th>\n",
              "      <th>x</th>\n",
              "      <th>y</th>\n",
              "    </tr>\n",
              "  </thead>\n",
              "  <tbody>\n",
              "    <tr>\n",
              "      <th>count</th>\n",
              "      <td>1.059000e+04</td>\n",
              "      <td>10590.000000</td>\n",
              "    </tr>\n",
              "    <tr>\n",
              "      <th>mean</th>\n",
              "      <td>2.999277e+07</td>\n",
              "      <td>2.642812</td>\n",
              "    </tr>\n",
              "    <tr>\n",
              "      <th>std</th>\n",
              "      <td>5.759381e+06</td>\n",
              "      <td>0.537305</td>\n",
              "    </tr>\n",
              "    <tr>\n",
              "      <th>min</th>\n",
              "      <td>2.000026e+07</td>\n",
              "      <td>1.669640</td>\n",
              "    </tr>\n",
              "    <tr>\n",
              "      <th>25%</th>\n",
              "      <td>2.503806e+07</td>\n",
              "      <td>2.180550</td>\n",
              "    </tr>\n",
              "    <tr>\n",
              "      <th>50%</th>\n",
              "      <td>2.994436e+07</td>\n",
              "      <td>2.639820</td>\n",
              "    </tr>\n",
              "    <tr>\n",
              "      <th>75%</th>\n",
              "      <td>3.500845e+07</td>\n",
              "      <td>3.100155</td>\n",
              "    </tr>\n",
              "    <tr>\n",
              "      <th>max</th>\n",
              "      <td>3.999734e+07</td>\n",
              "      <td>4.287660</td>\n",
              "    </tr>\n",
              "  </tbody>\n",
              "</table>\n",
              "</div>"
            ],
            "text/plain": [
              "                  x             y\n",
              "count  1.059000e+04  10590.000000\n",
              "mean   2.999277e+07      2.642812\n",
              "std    5.759381e+06      0.537305\n",
              "min    2.000026e+07      1.669640\n",
              "25%    2.503806e+07      2.180550\n",
              "50%    2.994436e+07      2.639820\n",
              "75%    3.500845e+07      3.100155\n",
              "max    3.999734e+07      4.287660"
            ]
          },
          "metadata": {
            "tags": []
          },
          "execution_count": 152
        }
      ]
    },
    {
      "cell_type": "code",
      "metadata": {
        "colab": {
          "base_uri": "https://localhost:8080/"
        },
        "id": "YkkSUuKKaS7G",
        "outputId": "5bee19ff-4208-457e-cb52-71a997862a38"
      },
      "source": [
        "test_data.info()"
      ],
      "execution_count": 153,
      "outputs": [
        {
          "output_type": "stream",
          "text": [
            "<class 'pandas.core.frame.DataFrame'>\n",
            "RangeIndex: 10590 entries, 0 to 10589\n",
            "Data columns (total 2 columns):\n",
            " #   Column  Non-Null Count  Dtype  \n",
            "---  ------  --------------  -----  \n",
            " 0   x       10590 non-null  int64  \n",
            " 1   y       10590 non-null  float64\n",
            "dtypes: float64(1), int64(1)\n",
            "memory usage: 165.6 KB\n"
          ],
          "name": "stdout"
        }
      ]
    },
    {
      "cell_type": "markdown",
      "metadata": {
        "id": "vafGAlbwbL5x"
      },
      "source": [
        "## Nhận xét\n",
        "* Dữ liệu trong cả hai tập train và test không có giá trị null\n",
        "* Tỉ lệ tập test và train xấp xỉ 1/7\n",
        "* khoảng giá trị của tập train và test khác nhau"
      ]
    },
    {
      "cell_type": "code",
      "metadata": {
        "id": "YZu8hTHcGd0k"
      },
      "source": [
        "x_train = train_data['x'].to_numpy().reshape(-1, 1)\n",
        "y_train = train_data['y']\n",
        "x_test = test_data['x'].to_numpy().reshape(-1, 1)\n",
        "y_test = test_data['y']"
      ],
      "execution_count": 154,
      "outputs": []
    },
    {
      "cell_type": "code",
      "metadata": {
        "colab": {
          "base_uri": "https://localhost:8080/",
          "height": 279
        },
        "id": "Ymm5qPeG_utq",
        "outputId": "237bda3f-f838-454e-f4cc-5c847c5caf29"
      },
      "source": [
        "plt.figure(figsize=(10, 4))\n",
        "plt.subplot(121)\n",
        "plt.plot(x_train, y_train, 'ob')\n",
        "plt.xlabel('thoi gian')\n",
        "plt.ylabel('kich thuoc')\n",
        "plt.subplot(122)\n",
        "plt.plot(x_test, y_test, 'og')\n",
        "plt.xlabel('thoi gian')\n",
        "plt.ylabel('kich thuoc')\n",
        "plt.show()"
      ],
      "execution_count": 155,
      "outputs": [
        {
          "output_type": "display_data",
          "data": {
            "image/png": "[encoded data removed]",
            "text/plain": [
              "<Figure size 720x288 with 2 Axes>"
            ]
          },
          "metadata": {
            "tags": [],
            "needs_background": "light"
          }
        }
      ]
    },
    {
      "cell_type": "markdown",
      "metadata": {
        "id": "hhBHL4XkcIaU"
      },
      "source": [
        "* Dữ liệu phần bố có vẻ tuyến tính trên cả tập train và test"
      ]
    },
    {
      "cell_type": "markdown",
      "metadata": {
        "id": "VAk14nL6cTUQ"
      },
      "source": [
        "# Model - liear regression\n"
      ]
    },
    {
      "cell_type": "markdown",
      "metadata": {
        "id": "iz16HNIOcvLM"
      },
      "source": [
        "## Model khi chưa thêm feature"
      ]
    },
    {
      "cell_type": "code",
      "metadata": {
        "colab": {
          "base_uri": "https://localhost:8080/"
        },
        "id": "yml-SrAFDuUR",
        "outputId": "8549c979-2833-4ce4-dff7-36ca4dab5358"
      },
      "source": [
        "model = LinearRegression()\n",
        "model.fit(x_train, y_train)"
      ],
      "execution_count": 156,
      "outputs": [
        {
          "output_type": "execute_result",
          "data": {
            "text/plain": [
              "LinearRegression(copy_X=True, fit_intercept=True, n_jobs=None, normalize=False)"
            ]
          },
          "metadata": {
            "tags": []
          },
          "execution_count": 156
        }
      ]
    },
    {
      "cell_type": "code",
      "metadata": {
        "colab": {
          "base_uri": "https://localhost:8080/"
        },
        "id": "oo-QjzqIJT7P",
        "outputId": "505272a2-943f-476a-bc06-9be3667acad9"
      },
      "source": [
        "y_train_pred = model.predict(x_train)\n",
        "y_test_pred = model.predict(x_test)\n",
        "MSE_train = mean_squared_error(y_train_pred, y_train)\n",
        "MSE_test = mean_squared_error(y_test_pred, y_test)\n",
        "print('Mean squared error for train_data: ', MSE_train)\n",
        "print('MSE_train/mean_train: ', np.sqrt(MSE_train)/np.mean(y_train)*100)\n",
        "\n",
        "print('Mean squared error for test_data: ', MSE_test)\n",
        "print('MSE_test/mean_test: ', np.sqrt(MSE_test)/np.mean(y_test)*100)"
      ],
      "execution_count": 157,
      "outputs": [
        {
          "output_type": "stream",
          "text": [
            "Mean squared error for train_data:  0.00014337728721748835\n",
            "MSE_train/mean_train:  2.9435753348039553\n",
            "Mean squared error for test_data:  0.020664949397549082\n",
            "MSE_test/mean_test:  5.439398887356979\n"
          ],
          "name": "stdout"
        }
      ]
    },
    {
      "cell_type": "markdown",
      "metadata": {
        "id": "BwCkba0tc3A4"
      },
      "source": [
        "* độ sai lệch dự đoán là 5,4%, một con số khá tốt đối với linear regression\n",
        "* Khi kích thước input lớn hơn thì độ sai lệch lớn hơn(5,4 > 2,9)\n",
        "\n"
      ]
    },
    {
      "cell_type": "code",
      "metadata": {
        "colab": {
          "base_uri": "https://localhost:8080/",
          "height": 279
        },
        "id": "lTrYxFxdM_Ow",
        "outputId": "89f4e118-e0f1-4a48-ef4f-f523fc9403cf"
      },
      "source": [
        "plt.figure(figsize=(10, 4))\n",
        "plt.subplot(121)\n",
        "plt.plot(x_train, y_train, 'ob')\n",
        "plt.plot(x_train, y_train_pred, 'r')\n",
        "plt.xlabel('thoi gian')\n",
        "plt.ylabel('kich thuoc')\n",
        "plt.subplot(122)\n",
        "plt.plot(x_test, y_test, 'og')\n",
        "plt.plot(x_test, y_test_pred, 'r')\n",
        "plt.xlabel('thoi gian')\n",
        "plt.ylabel('kich thuoc')\n",
        "plt.show()"
      ],
      "execution_count": 158,
      "outputs": [
        {
          "output_type": "display_data",
          "data": {
            "image/png": "[encoded data removed]",
            "text/plain": [
              "<Figure size 720x288 with 2 Axes>"
            ]
          },
          "metadata": {
            "tags": [],
            "needs_background": "light"
          }
        }
      ]
    },
    {
      "cell_type": "markdown",
      "metadata": {
        "id": "f7CNR_PqiLAH"
      },
      "source": [
        "## Model thêm feature"
      ]
    },
    {
      "cell_type": "markdown",
      "metadata": {
        "id": "xGKMWZKBiPsH"
      },
      "source": [
        "* Thời gian chạy của chương trình phụ thuộc vào độ phức tập của thuật toán, vì vậy thời gian chạy không tỉ lệ tuyến tính với input đầu vào\n",
        "* Độ phức tap thuật toán chia thành nhiều nhóm, vì vậy ta thêm một số feature *x^2, log(x), xlog(x)*"
      ]
    },
    {
      "cell_type": "code",
      "metadata": {
        "id": "uJLMHuHkFs9v"
      },
      "source": [
        "#hàm thêm feature\n",
        "def preprocess_data(data):\n",
        "  y = data['y']\n",
        "  data.drop(columns = ['y'], inplace = True)\n",
        "  data['x^2'] = data['x'].apply(lambda x: x**2)\n",
        "  data['log(x)'] = data['x'].apply(lambda x: np.log(x))\n",
        "  data['xlog(x)'] = data['x'].apply(lambda x: x*np.log(x))\n",
        "  return (data, y)"
      ],
      "execution_count": 159,
      "outputs": []
    },
    {
      "cell_type": "code",
      "metadata": {
        "id": "z9U88MHFV2qC"
      },
      "source": [
        "x_train, y_train = preprocess_data(train_data)\n",
        "x_test, y_test = preprocess_data(test_data)"
      ],
      "execution_count": 160,
      "outputs": []
    },
    {
      "cell_type": "code",
      "metadata": {
        "colab": {
          "base_uri": "https://localhost:8080/"
        },
        "id": "RoUHmA4pX3xr",
        "outputId": "026f05cf-9d54-4596-c889-33c666e52cc1"
      },
      "source": [
        "#tạo model\n",
        "model = LinearRegression()\n",
        "model.fit(x_train, y_train)"
      ],
      "execution_count": 161,
      "outputs": [
        {
          "output_type": "execute_result",
          "data": {
            "text/plain": [
              "LinearRegression(copy_X=True, fit_intercept=True, n_jobs=None, normalize=False)"
            ]
          },
          "metadata": {
            "tags": []
          },
          "execution_count": 161
        }
      ]
    },
    {
      "cell_type": "code",
      "metadata": {
        "colab": {
          "base_uri": "https://localhost:8080/"
        },
        "id": "eMwcIGKxX5Y_",
        "outputId": "4330cd3d-109c-426f-8201-81b4c56690cb"
      },
      "source": [
        "#dự doán và đánh giá model\n",
        "y_train_pred = model.predict(x_train)\n",
        "y_test_pred = model.predict(x_test)\n",
        "MSE_train = mean_squared_error(y_train_pred, y_train)\n",
        "MSE_test = mean_squared_error(y_test_pred, y_test)\n",
        "print('Mean squared error for train_data: ', MSE_train)\n",
        "print('MSE_train/mean_train: ', np.sqrt(MSE_train)/np.mean(y_train)*100)\n",
        "\n",
        "print('Mean squared error for test_data: ', MSE_test)\n",
        "print('MSE_test/mean_test: ', np.sqrt(MSE_test)/np.mean(y_test)*100)"
      ],
      "execution_count": 162,
      "outputs": [
        {
          "output_type": "stream",
          "text": [
            "Mean squared error for train_data:  0.00012190225045315814\n",
            "MSE_train/mean_train:  2.7141936949019714\n",
            "Mean squared error for test_data:  0.004181195754199342\n",
            "MSE_test/mean_test:  2.4467183851971535\n"
          ],
          "name": "stdout"
        }
      ]
    },
    {
      "cell_type": "code",
      "metadata": {
        "colab": {
          "base_uri": "https://localhost:8080/",
          "height": 279
        },
        "id": "oYnkD-y9wrLx",
        "outputId": "401b8ddd-e09e-4c2f-a0e2-c1f60d7a57c1"
      },
      "source": [
        "plt.figure(figsize=(10, 4))\n",
        "plt.subplot(121)\n",
        "plt.plot(x_train['x'], y_train, 'ob')\n",
        "plt.plot(x_train['x'], y_train_pred, 'r')\n",
        "plt.xlabel('thoi gian')\n",
        "plt.ylabel('kich thuoc')\n",
        "plt.subplot(122)\n",
        "plt.plot(x_test['x'], y_test, 'og')\n",
        "plt.plot(x_test['x'], y_test_pred, 'r')\n",
        "plt.xlabel('thoi gian')\n",
        "plt.ylabel('kich thuoc')\n",
        "plt.show()"
      ],
      "execution_count": 163,
      "outputs": [
        {
          "output_type": "display_data",
          "data": {
            "image/png": "[encoded data removed]",
            "text/plain": [
              "<Figure size 720x288 with 2 Axes>"
            ]
          },
          "metadata": {
            "tags": [],
            "needs_background": "light"
          }
        }
      ]
    },
    {
      "cell_type": "markdown",
      "metadata": {
        "id": "ueD32CUki_Md"
      },
      "source": [
        "* vì sau khi thêm 3 feature x^2, log(x), xlog(x) thì mean square error đều giảm ở cả tập train và tập test đặc biệt MSE của tập test giảm đáng kể(5,4% -> 2,4%)\n",
        "* Model đã fit hơn với data"
      ]
    }
  ]
}