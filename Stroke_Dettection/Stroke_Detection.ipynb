{
  "nbformat": 4,
  "nbformat_minor": 0,
  "metadata": {
    "colab": {
      "name": "Stroke_Detection.ipynb",
      "provenance": [],
      "collapsed_sections": [],
      "authorship_tag": "ABX9TyPG/EfYRy8KiQo3+w2hJkxf",
      "include_colab_link": true
    },
    "kernelspec": {
      "display_name": "Python 3",
      "name": "python3"
    },
    "language_info": {
      "name": "python"
    }
  },
  "cells": [
    {
      "cell_type": "markdown",
      "metadata": {
        "id": "view-in-github",
        "colab_type": "text"
      },
      "source": [
        "<a href=\"https://colab.research.google.com/github/DangMinh21/CS114.L22.KHCL/blob/main/Stroke_Dettection/Stroke_Detection.ipynb\" target=\"_parent\"><img src=\"https://colab.research.google.com/assets/colab-badge.svg\" alt=\"Open In Colab\"/></a>"
      ]
    },
    {
      "cell_type": "code",
      "metadata": {
        "id": "EqBc_JEaM5o4"
      },
      "source": [
        "import pandas as pd\n",
        "import numpy as np\n",
        "import matplotlib.pyplot as plt\n",
        "%matplotlib inline\n",
        "import seaborn as sns\n",
        "from sklearn.preprocessing import StandardScaler\n",
        "from sklearn.model_selection import train_test_split\n",
        "from sklearn.linear_model import LogisticRegression\n",
        "from sklearn.tree import DecisionTreeClassifier\n",
        "from sklearn.ensemble import RandomForestClassifier\n",
        "from sklearn.svm import SVC\n",
        "from sklearn.metrics import confusion_matrix, f1_score\n",
        "from imblearn.over_sampling import SMOTE"
      ],
      "execution_count": null,
      "outputs": []
    },
    {
      "cell_type": "code",
      "metadata": {
        "id": "rH9B__9r8di2"
      },
      "source": [
        "def load_from_google(url):\n",
        "  download_url = 'https://drive.google.com/uc?id=' + url.split('/')[-2]\n",
        "  data = pd.read_csv(download_url)\n",
        "  return data\n",
        "  \n",
        "train_url = 'https://drive.google.com/file/d/1iNpj_H3OiJLydq5wF_r75At9wZuULZ9e/view?usp=sharing'\n",
        "test_url = 'https://drive.google.com/file/d/1Fuq6J2xHLVZ4BQnP22fxyPYHLh9Tvb4e/view?usp=sharing'\n",
        "train_data = load_from_google(train_url)\n",
        "test_data = load_from_google(test_url)"
      ],
      "execution_count": null,
      "outputs": []
    },
    {
      "cell_type": "code",
      "metadata": {
        "colab": {
          "base_uri": "https://localhost:8080/"
        },
        "id": "KqTWuInBb8k-",
        "outputId": "07a2a830-d79d-44f8-ed6b-7c88b19c617c"
      },
      "source": [
        "train_data.columns"
      ],
      "execution_count": null,
      "outputs": [
        {
          "output_type": "execute_result",
          "data": {
            "text/plain": [
              "Index(['id', 'gender', 'age', 'hypertension', 'heart_disease', 'ever_married',\n",
              "       'work_type', 'Residence_type', 'avg_glucose_level', 'bmi',\n",
              "       'smoking_status', 'blood', 'height', 'stroke'],\n",
              "      dtype='object')"
            ]
          },
          "metadata": {
            "tags": []
          },
          "execution_count": 264
        }
      ]
    },
    {
      "cell_type": "code",
      "metadata": {
        "colab": {
          "base_uri": "https://localhost:8080/"
        },
        "id": "YyYrXVFWcOEu",
        "outputId": "993bcb2c-850e-4163-e338-e9d3560498ec"
      },
      "source": [
        "  train_data.info()"
      ],
      "execution_count": null,
      "outputs": [
        {
          "output_type": "stream",
          "text": [
            "<class 'pandas.core.frame.DataFrame'>\n",
            "RangeIndex: 4000 entries, 0 to 3999\n",
            "Data columns (total 14 columns):\n",
            " #   Column             Non-Null Count  Dtype  \n",
            "---  ------             --------------  -----  \n",
            " 0   id                 4000 non-null   int64  \n",
            " 1   gender             4000 non-null   object \n",
            " 2   age                3893 non-null   float64\n",
            " 3   hypertension       3770 non-null   float64\n",
            " 4   heart_disease      3910 non-null   float64\n",
            " 5   ever_married       4000 non-null   object \n",
            " 6   work_type          4000 non-null   object \n",
            " 7   Residence_type     4000 non-null   object \n",
            " 8   avg_glucose_level  3829 non-null   float64\n",
            " 9   bmi                2884 non-null   float64\n",
            " 10  smoking_status     4000 non-null   object \n",
            " 11  blood              3990 non-null   object \n",
            " 12  height             2928 non-null   float64\n",
            " 13  stroke             4000 non-null   int64  \n",
            "dtypes: float64(6), int64(2), object(6)\n",
            "memory usage: 437.6+ KB\n"
          ],
          "name": "stdout"
        }
      ]
    },
    {
      "cell_type": "code",
      "metadata": {
        "colab": {
          "base_uri": "https://localhost:8080/",
          "height": 284
        },
        "id": "mWyJraY7cdd_",
        "outputId": "e59116d1-87ca-4f80-b633-e9c8636c771d"
      },
      "source": [
        "train_data.describe()"
      ],
      "execution_count": null,
      "outputs": [
        {
          "output_type": "execute_result",
          "data": {
            "text/html": [
              "<div>\n",
              "<style scoped>\n",
              "    .dataframe tbody tr th:only-of-type {\n",
              "        vertical-align: middle;\n",
              "    }\n",
              "\n",
              "    .dataframe tbody tr th {\n",
              "        vertical-align: top;\n",
              "    }\n",
              "\n",
              "    .dataframe thead th {\n",
              "        text-align: right;\n",
              "    }\n",
              "</style>\n",
              "<table border=\"1\" class=\"dataframe\">\n",
              "  <thead>\n",
              "    <tr style=\"text-align: right;\">\n",
              "      <th></th>\n",
              "      <th>id</th>\n",
              "      <th>age</th>\n",
              "      <th>hypertension</th>\n",
              "      <th>heart_disease</th>\n",
              "      <th>avg_glucose_level</th>\n",
              "      <th>bmi</th>\n",
              "      <th>height</th>\n",
              "      <th>stroke</th>\n",
              "    </tr>\n",
              "  </thead>\n",
              "  <tbody>\n",
              "    <tr>\n",
              "      <th>count</th>\n",
              "      <td>4000.000000</td>\n",
              "      <td>3893.000000</td>\n",
              "      <td>3770.000000</td>\n",
              "      <td>3910.000000</td>\n",
              "      <td>3829.000000</td>\n",
              "      <td>2884.000000</td>\n",
              "      <td>2928.000000</td>\n",
              "      <td>4000.000000</td>\n",
              "    </tr>\n",
              "    <tr>\n",
              "      <th>mean</th>\n",
              "      <td>36294.336250</td>\n",
              "      <td>43.071256</td>\n",
              "      <td>0.097613</td>\n",
              "      <td>0.055243</td>\n",
              "      <td>106.178062</td>\n",
              "      <td>28.887899</td>\n",
              "      <td>1.611831</td>\n",
              "      <td>0.032500</td>\n",
              "    </tr>\n",
              "    <tr>\n",
              "      <th>std</th>\n",
              "      <td>21213.704061</td>\n",
              "      <td>22.425944</td>\n",
              "      <td>0.296830</td>\n",
              "      <td>0.228483</td>\n",
              "      <td>45.048667</td>\n",
              "      <td>7.904179</td>\n",
              "      <td>0.149053</td>\n",
              "      <td>0.177346</td>\n",
              "    </tr>\n",
              "    <tr>\n",
              "      <th>min</th>\n",
              "      <td>77.000000</td>\n",
              "      <td>0.080000</td>\n",
              "      <td>0.000000</td>\n",
              "      <td>0.000000</td>\n",
              "      <td>55.220000</td>\n",
              "      <td>11.300000</td>\n",
              "      <td>0.910000</td>\n",
              "      <td>0.000000</td>\n",
              "    </tr>\n",
              "    <tr>\n",
              "      <th>25%</th>\n",
              "      <td>17294.000000</td>\n",
              "      <td>25.000000</td>\n",
              "      <td>0.000000</td>\n",
              "      <td>0.000000</td>\n",
              "      <td>77.500000</td>\n",
              "      <td>23.500000</td>\n",
              "      <td>1.520000</td>\n",
              "      <td>0.000000</td>\n",
              "    </tr>\n",
              "    <tr>\n",
              "      <th>50%</th>\n",
              "      <td>36688.500000</td>\n",
              "      <td>45.000000</td>\n",
              "      <td>0.000000</td>\n",
              "      <td>0.000000</td>\n",
              "      <td>92.110000</td>\n",
              "      <td>28.000000</td>\n",
              "      <td>1.630000</td>\n",
              "      <td>0.000000</td>\n",
              "    </tr>\n",
              "    <tr>\n",
              "      <th>75%</th>\n",
              "      <td>54425.000000</td>\n",
              "      <td>61.000000</td>\n",
              "      <td>0.000000</td>\n",
              "      <td>0.000000</td>\n",
              "      <td>114.090000</td>\n",
              "      <td>33.000000</td>\n",
              "      <td>1.722500</td>\n",
              "      <td>0.000000</td>\n",
              "    </tr>\n",
              "    <tr>\n",
              "      <th>max</th>\n",
              "      <td>72918.000000</td>\n",
              "      <td>82.000000</td>\n",
              "      <td>1.000000</td>\n",
              "      <td>1.000000</td>\n",
              "      <td>267.760000</td>\n",
              "      <td>97.600000</td>\n",
              "      <td>1.850000</td>\n",
              "      <td>1.000000</td>\n",
              "    </tr>\n",
              "  </tbody>\n",
              "</table>\n",
              "</div>"
            ],
            "text/plain": [
              "                 id          age  ...       height       stroke\n",
              "count   4000.000000  3893.000000  ...  2928.000000  4000.000000\n",
              "mean   36294.336250    43.071256  ...     1.611831     0.032500\n",
              "std    21213.704061    22.425944  ...     0.149053     0.177346\n",
              "min       77.000000     0.080000  ...     0.910000     0.000000\n",
              "25%    17294.000000    25.000000  ...     1.520000     0.000000\n",
              "50%    36688.500000    45.000000  ...     1.630000     0.000000\n",
              "75%    54425.000000    61.000000  ...     1.722500     0.000000\n",
              "max    72918.000000    82.000000  ...     1.850000     1.000000\n",
              "\n",
              "[8 rows x 8 columns]"
            ]
          },
          "metadata": {
            "tags": []
          },
          "execution_count": 266
        }
      ]
    },
    {
      "cell_type": "code",
      "metadata": {
        "colab": {
          "base_uri": "https://localhost:8080/"
        },
        "id": "iHwVzBOLcrMN",
        "outputId": "4ca10969-9341-420b-ac71-1a3c929fe6de"
      },
      "source": [
        "train_data.isnull().sum()"
      ],
      "execution_count": null,
      "outputs": [
        {
          "output_type": "execute_result",
          "data": {
            "text/plain": [
              "id                      0\n",
              "gender                  0\n",
              "age                   107\n",
              "hypertension          230\n",
              "heart_disease          90\n",
              "ever_married            0\n",
              "work_type               0\n",
              "Residence_type          0\n",
              "avg_glucose_level     171\n",
              "bmi                  1116\n",
              "smoking_status          0\n",
              "blood                  10\n",
              "height               1072\n",
              "stroke                  0\n",
              "dtype: int64"
            ]
          },
          "metadata": {
            "tags": []
          },
          "execution_count": 267
        }
      ]
    },
    {
      "cell_type": "code",
      "metadata": {
        "colab": {
          "base_uri": "https://localhost:8080/",
          "height": 914
        },
        "id": "dUqkV8G3awSE",
        "outputId": "d9c2a00d-2005-4f23-9346-b484cfcee2fd"
      },
      "source": [
        "def histplot(cols):\n",
        "  fi, axs = plt.subplots(5, 2, figsize=(24, 16))\n",
        "  k = 0\n",
        "  for i in range(5):\n",
        "    for j in range(2):\n",
        "        sns.histplot(data = train_data, x = cols[k], hue='stroke', multiple='stack',ax=axs[i, j])\n",
        "        k += 1\n",
        "        if k == 10:\n",
        "          break\n",
        "histplot(train_data.columns[1:-3])"
      ],
      "execution_count": null,
      "outputs": [
        {
          "output_type": "display_data",
          "data": {
            "image/png": "[encoded data removed]",
            "text/plain": [
              "<Figure size 1728x1152 with 10 Axes>"
            ]
          },
          "metadata": {
            "tags": [],
            "needs_background": "light"
          }
        }
      ]
    },
    {
      "cell_type": "code",
      "metadata": {
        "colab": {
          "base_uri": "https://localhost:8080/"
        },
        "id": "QgzLc2w0q2wv",
        "outputId": "1612be95-d220-416c-83b3-959a6227cdd1"
      },
      "source": [
        "print(train_data.columns)\n",
        "num_cols = [col for col in train_data.columns if train_data[col].dtypes=='float64']\n",
        "cat_cols = [col for col in train_data.columns if train_data[col].dtypes=='object']\n",
        "print(num_cols)\n",
        "print(cat_cols)"
      ],
      "execution_count": null,
      "outputs": [
        {
          "output_type": "stream",
          "text": [
            "Index(['id', 'gender', 'age', 'hypertension', 'heart_disease', 'ever_married',\n",
            "       'work_type', 'Residence_type', 'avg_glucose_level', 'bmi',\n",
            "       'smoking_status', 'blood', 'height', 'stroke'],\n",
            "      dtype='object')\n",
            "['age', 'hypertension', 'heart_disease', 'avg_glucose_level', 'bmi', 'height']\n",
            "['gender', 'ever_married', 'work_type', 'Residence_type', 'smoking_status', 'blood']\n"
          ],
          "name": "stdout"
        }
      ]
    },
    {
      "cell_type": "code",
      "metadata": {
        "id": "wu_zGf37FP_K"
      },
      "source": [
        "# no label\n",
        "def preprocessing(data):\n",
        "  data.drop(columns=['id', 'Residence_type', 'gender', 'height'], inplace=True)\n",
        "\n",
        "  data['age'] = data['age'].fillna(np.mean(data['age']))\n",
        "  data['hypertension'] = data['hypertension'].fillna(1)\n",
        "  data['heart_disease'] = data['heart_disease'].fillna(1)\n",
        "  data['avg_glucose_level'] = data['avg_glucose_level'].fillna(np.mean(data['avg_glucose_level']))\n",
        "  data['bmi'] = data['bmi'].fillna(np.mean(data['bmi']))\n",
        "\n",
        "  data['work_type'] = data['work_type'].apply(lambda x: 1 if x=='Private' else 0)\n",
        "  data[\"ever_married\"] = data[\"ever_married\"].apply(lambda x: 1 if x==\"Yes\" else 0)\n",
        "\n",
        "  data_dummies = data[['work_type', 'smoking_status', 'blood']]\n",
        "  data_dummies=pd.get_dummies(data_dummies)\n",
        "  data.drop(columns=['work_type', 'smoking_status', 'blood'],inplace=True)\n",
        "  data=data.merge(data_dummies,left_index=True, right_index=True,how='left')\n",
        "\n",
        "  scaler = StandardScaler()\n",
        "  data = scaler.fit_transform(data)\n",
        "  return data\n"
      ],
      "execution_count": null,
      "outputs": []
    },
    {
      "cell_type": "code",
      "metadata": {
        "id": "SoIh4mSWT4zd"
      },
      "source": [
        "x = train_data.drop(columns=['stroke'])\n",
        "y = train_data.stroke"
      ],
      "execution_count": null,
      "outputs": []
    },
    {
      "cell_type": "code",
      "metadata": {
        "colab": {
          "base_uri": "https://localhost:8080/"
        },
        "id": "8ijKu-U1omru",
        "outputId": "c850a516-c695-4b3c-d6bb-215f764f55ea"
      },
      "source": [
        "x.columns"
      ],
      "execution_count": null,
      "outputs": [
        {
          "output_type": "execute_result",
          "data": {
            "text/plain": [
              "Index(['id', 'gender', 'age', 'hypertension', 'heart_disease', 'ever_married',\n",
              "       'work_type', 'Residence_type', 'avg_glucose_level', 'bmi',\n",
              "       'smoking_status', 'blood', 'height'],\n",
              "      dtype='object')"
            ]
          },
          "metadata": {
            "tags": []
          },
          "execution_count": 272
        }
      ]
    },
    {
      "cell_type": "code",
      "metadata": {
        "id": "eJswHnGMUeGY"
      },
      "source": [
        "process_data = preprocessing(x)"
      ],
      "execution_count": null,
      "outputs": []
    },
    {
      "cell_type": "code",
      "metadata": {
        "colab": {
          "base_uri": "https://localhost:8080/"
        },
        "id": "ZdL5qFBto_Of",
        "outputId": "056124fd-760a-478f-fbb1-32d67c11e413"
      },
      "source": [
        "x.columns"
      ],
      "execution_count": null,
      "outputs": [
        {
          "output_type": "execute_result",
          "data": {
            "text/plain": [
              "Index(['age', 'hypertension', 'heart_disease', 'ever_married',\n",
              "       'avg_glucose_level', 'bmi'],\n",
              "      dtype='object')"
            ]
          },
          "metadata": {
            "tags": []
          },
          "execution_count": 274
        }
      ]
    },
    {
      "cell_type": "code",
      "metadata": {
        "id": "56Bm04edUp4U",
        "colab": {
          "base_uri": "https://localhost:8080/"
        },
        "outputId": "5828308c-11a8-4c75-dcc9-c54a802843da"
      },
      "source": [
        "process_data"
      ],
      "execution_count": null,
      "outputs": [
        {
          "output_type": "execute_result",
          "data": {
            "text/plain": [
              "array([[ 9.63616686e-16, -4.19260007e-01, -2.87814234e-01, ...,\n",
              "        -7.92883658e-01, -5.11303946e-01,  2.03829320e+00],\n",
              "       [ 5.39246789e-01, -4.19260007e-01, -2.87814234e-01, ...,\n",
              "        -7.92883658e-01,  1.95578385e+00, -4.90606552e-01],\n",
              "       [-4.84268434e-02, -4.19260007e-01, -2.87814234e-01, ...,\n",
              "        -7.92883658e-01,  1.95578385e+00, -4.90606552e-01],\n",
              "       ...,\n",
              "       [ 6.29658117e-01,  2.38515476e+00, -2.87814234e-01, ...,\n",
              "         1.26121908e+00, -5.11303946e-01, -4.90606552e-01],\n",
              "       [ 8.71901488e-02, -4.19260007e-01, -2.87814234e-01, ...,\n",
              "        -7.92883658e-01, -5.11303946e-01,  2.03829320e+00],\n",
              "       [ 4.48835461e-01,  2.38515476e+00, -2.87814234e-01, ...,\n",
              "        -7.92883658e-01, -5.11303946e-01,  2.03829320e+00]])"
            ]
          },
          "metadata": {
            "tags": []
          },
          "execution_count": 275
        }
      ]
    },
    {
      "cell_type": "code",
      "metadata": {
        "id": "3JFgBGlhUu-3"
      },
      "source": [
        "x_train, x_test, y_train, y_test = train_test_split(process_data, y, train_size=0.8, random_state = 42)\n"
      ],
      "execution_count": null,
      "outputs": []
    },
    {
      "cell_type": "code",
      "metadata": {
        "id": "g1u45xxcz1jH",
        "colab": {
          "base_uri": "https://localhost:8080/"
        },
        "outputId": "0fdb6c02-0f4a-4278-c0fe-bd302d1e7b8d"
      },
      "source": [
        "sm = SMOTE(ratio=0.25, random_state=42)\n",
        "x_train_re, y_train_re = sm.fit_sample(x_train, y_train)"
      ],
      "execution_count": null,
      "outputs": [
        {
          "output_type": "stream",
          "text": [
            "/usr/local/lib/python3.7/dist-packages/sklearn/utils/deprecation.py:87: FutureWarning: Function safe_indexing is deprecated; safe_indexing is deprecated in version 0.22 and will be removed in version 0.24.\n",
            "  warnings.warn(msg, category=FutureWarning)\n"
          ],
          "name": "stderr"
        }
      ]
    },
    {
      "cell_type": "code",
      "metadata": {
        "id": "kDsoD6Yi4VuX",
        "colab": {
          "base_uri": "https://localhost:8080/"
        },
        "outputId": "705c14ca-913a-4e4c-92a1-7c9578a7a833"
      },
      "source": [
        "x_train_re.shape"
      ],
      "execution_count": null,
      "outputs": [
        {
          "output_type": "execute_result",
          "data": {
            "text/plain": [
              "(3876, 15)"
            ]
          },
          "metadata": {
            "tags": []
          },
          "execution_count": 278
        }
      ]
    },
    {
      "cell_type": "code",
      "metadata": {
        "id": "XRL26vGW02lK",
        "colab": {
          "base_uri": "https://localhost:8080/"
        },
        "outputId": "27b56329-ec45-4c46-feca-49aace04c461"
      },
      "source": [
        "model = LogisticRegression()\n",
        "model.fit(x_train_re, y_train_re)"
      ],
      "execution_count": null,
      "outputs": [
        {
          "output_type": "execute_result",
          "data": {
            "text/plain": [
              "LogisticRegression(C=1.0, class_weight=None, dual=False, fit_intercept=True,\n",
              "                   intercept_scaling=1, l1_ratio=None, max_iter=100,\n",
              "                   multi_class='auto', n_jobs=None, penalty='l2',\n",
              "                   random_state=None, solver='lbfgs', tol=0.0001, verbose=0,\n",
              "                   warm_start=False)"
            ]
          },
          "metadata": {
            "tags": []
          },
          "execution_count": 279
        }
      ]
    },
    {
      "cell_type": "code",
      "metadata": {
        "id": "tO4XQHHnYsyE",
        "colab": {
          "base_uri": "https://localhost:8080/",
          "height": 298
        },
        "outputId": "5559246c-2d77-49f9-fed2-acbd0b8afd73"
      },
      "source": [
        "prediction = model.predict(x_test)\n",
        "score = model.score(x_test, y_test)\n",
        "print('Testing Score: ',score)\n",
        "f1_Score = f1_score(y_test, prediction)\n",
        "print('f1_score: ', f1_Score)\n",
        "cm = confusion_matrix(y_test,prediction)\n",
        "sn.heatmap(cm, annot=True)\n",
        "plt.show()"
      ],
      "execution_count": null,
      "outputs": [
        {
          "output_type": "stream",
          "text": [
            "Testing Score:  0.93625\n",
            "f1_score:  0.3855421686746988\n"
          ],
          "name": "stdout"
        },
        {
          "output_type": "display_data",
          "data": {
            "image/png": "[encoded data removed]",
            "text/plain": [
              "<Figure size 432x288 with 2 Axes>"
            ]
          },
          "metadata": {
            "tags": [],
            "needs_background": "light"
          }
        }
      ]
    },
    {
      "cell_type": "code",
      "metadata": {
        "id": "OJeKdprqdnuZ"
      },
      "source": [
        "# id = public_test['id']\n",
        "# x_submit = preprocessing(public_test)\n",
        "# y_submit = model.predict(x_submit)\n",
        "\n",
        "# submit = pd.DataFrame({'id':id, \n",
        "#                        'stroke':y_submit})\n",
        "# submit.to_csv('Submission.csv', index=False)\n",
        "# !cp Submission.csv \"drive/My Drive/Colab Notebooks\"\n",
        "# print(\"complete\")"
      ],
      "execution_count": null,
      "outputs": []
    }
  ]
}